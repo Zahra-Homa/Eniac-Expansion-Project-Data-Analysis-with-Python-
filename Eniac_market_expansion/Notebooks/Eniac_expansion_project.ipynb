{
 "cells": [
  {
   "cell_type": "code",
   "execution_count": 1,
   "id": "98428781-5c1f-4478-9102-c5645e1e77c9",
   "metadata": {},
   "outputs": [],
   "source": [
    "import pandas as pd\n",
    "import seaborn as sns\n",
    "import matplotlib.pyplot as plt"
   ]
  },
  {
   "cell_type": "markdown",
   "id": "404e09e9-315b-4e95-9999-0ee476139170",
   "metadata": {},
   "source": [
    "# 1. Import the data"
   ]
  },
  {
   "cell_type": "code",
   "execution_count": 2,
   "id": "db854cc6-cbb6-4bc4-9903-f65a9b934d85",
   "metadata": {},
   "outputs": [],
   "source": [
    "# read csv files which have a semicolon as a delimiter\n",
    "\n",
    "orders= pd.read_csv(\"data_magist_CSVs/orders.csv\" , sep=';')\n",
    "order_items = pd.read_csv(\"data_magist_CSVs/order_items.csv\", sep=';')\n",
    "order_payments = pd.read_csv(\"data_magist_CSVs/order_payments.csv\", sep=';')\n",
    "order_reviews = pd.read_csv(\"data_magist_CSVs/order_reviews.csv\", sep=';')\n",
    "customers = pd.read_csv(\"data_magist_CSVs/customers.csv\", sep=';')\n",
    "products = pd.read_csv(\"data_magist_CSVs/products.csv\", sep=';')\n",
    "sellers = pd.read_csv(\"data_magist_CSVs/sellers.csv\", sep=';')\n",
    "product_category_name_translation = pd.read_csv(\"data_magist_CSVs/product_category_name_translation.csv\", sep=';')\n",
    "\n",
    "# Load Brazilian geo data with semicolon delimiter and Latin-1 encoding\n",
    "# This will handle the special Portuguese characters like ã, ç, é (like São Luís, João Pessoa)\n",
    "geo = pd.read_csv(\"data_magist_CSVs/geo.csv\", sep=\";\",encoding='latin1')  \n",
    "\n",
    "\n",
    "# make a copy of each dataframe\n",
    "orders_df = orders.copy()\n",
    "order_items_df = order_items.copy()\n",
    "order_payments_df = order_payments.copy()\n",
    "order_reviews_df = order_reviews.copy()\n",
    "customers_df = customers.copy()\n",
    "geo_df = geo.copy()\n",
    "products_df = products.copy()\n",
    "sellers_df = sellers.copy()\n",
    "product_category_name_translation_df = product_category_name_translation.copy()"
   ]
  },
  {
   "cell_type": "markdown",
   "id": "3bb7636e-58ff-4430-95d4-0a8a7bde0d87",
   "metadata": {},
   "source": [
    "# 2. Exploring datasets\n",
    "## 2.1. orders_df"
   ]
  },
  {
   "cell_type": "code",
   "execution_count": 4,
   "id": "dedd165c-6aa5-45ce-81fd-b52dbdf9faca",
   "metadata": {},
   "outputs": [
    {
     "name": "stdout",
     "output_type": "stream",
     "text": [
      "<class 'pandas.core.frame.DataFrame'>\n",
      "RangeIndex: 99441 entries, 0 to 99440\n",
      "Data columns (total 8 columns):\n",
      " #   Column                         Non-Null Count  Dtype \n",
      "---  ------                         --------------  ----- \n",
      " 0   order_id                       99441 non-null  object\n",
      " 1   customer_id                    99441 non-null  object\n",
      " 2   order_status                   99441 non-null  object\n",
      " 3   order_purchase_timestamp       99441 non-null  object\n",
      " 4   order_approved_at              99281 non-null  object\n",
      " 5   order_delivered_carrier_date   97658 non-null  object\n",
      " 6   order_delivered_customer_date  96476 non-null  object\n",
      " 7   order_estimated_delivery_date  99441 non-null  object\n",
      "dtypes: object(8)\n",
      "memory usage: 6.1+ MB\n"
     ]
    }
   ],
   "source": [
    "orders_df.info()"
   ]
  },
  {
   "cell_type": "code",
   "execution_count": 5,
   "id": "ca38e990-1194-45d8-9f34-6c70977b61df",
   "metadata": {},
   "outputs": [
    {
     "data": {
      "text/html": [
       "<div>\n",
       "<style scoped>\n",
       "    .dataframe tbody tr th:only-of-type {\n",
       "        vertical-align: middle;\n",
       "    }\n",
       "\n",
       "    .dataframe tbody tr th {\n",
       "        vertical-align: top;\n",
       "    }\n",
       "\n",
       "    .dataframe thead th {\n",
       "        text-align: right;\n",
       "    }\n",
       "</style>\n",
       "<table border=\"1\" class=\"dataframe\">\n",
       "  <thead>\n",
       "    <tr style=\"text-align: right;\">\n",
       "      <th></th>\n",
       "      <th>order_id</th>\n",
       "      <th>customer_id</th>\n",
       "      <th>order_status</th>\n",
       "      <th>order_purchase_timestamp</th>\n",
       "      <th>order_approved_at</th>\n",
       "      <th>order_delivered_carrier_date</th>\n",
       "      <th>order_delivered_customer_date</th>\n",
       "      <th>order_estimated_delivery_date</th>\n",
       "    </tr>\n",
       "  </thead>\n",
       "  <tbody>\n",
       "    <tr>\n",
       "      <th>0</th>\n",
       "      <td>00010242fe8c5a6d1ba2dd792cb16214</td>\n",
       "      <td>3ce436f183e68e07877b285a838db11a</td>\n",
       "      <td>delivered</td>\n",
       "      <td>2017-09-13 10:59:02</td>\n",
       "      <td>2017-09-13 11:45:35</td>\n",
       "      <td>2017-09-19 20:34:16</td>\n",
       "      <td>2017-09-21 01:43:48</td>\n",
       "      <td>2017-09-29 02:00:00</td>\n",
       "    </tr>\n",
       "    <tr>\n",
       "      <th>1</th>\n",
       "      <td>00018f77f2f0320c557190d7a144bdd3</td>\n",
       "      <td>f6dd3ec061db4e3987629fe6b26e5cce</td>\n",
       "      <td>delivered</td>\n",
       "      <td>2017-04-26 12:53:06</td>\n",
       "      <td>2017-04-26 13:05:13</td>\n",
       "      <td>2017-05-04 16:35:00</td>\n",
       "      <td>2017-05-12 18:04:24</td>\n",
       "      <td>2017-05-15 02:00:00</td>\n",
       "    </tr>\n",
       "    <tr>\n",
       "      <th>2</th>\n",
       "      <td>000229ec398224ef6ca0657da4fc703e</td>\n",
       "      <td>6489ae5e4333f3693df5ad4372dab6d3</td>\n",
       "      <td>delivered</td>\n",
       "      <td>2018-01-14 15:33:31</td>\n",
       "      <td>2018-01-14 15:48:30</td>\n",
       "      <td>2018-01-16 13:36:48</td>\n",
       "      <td>2018-01-22 14:19:16</td>\n",
       "      <td>2018-02-05 01:00:00</td>\n",
       "    </tr>\n",
       "  </tbody>\n",
       "</table>\n",
       "</div>"
      ],
      "text/plain": [
       "                           order_id                       customer_id  \\\n",
       "0  00010242fe8c5a6d1ba2dd792cb16214  3ce436f183e68e07877b285a838db11a   \n",
       "1  00018f77f2f0320c557190d7a144bdd3  f6dd3ec061db4e3987629fe6b26e5cce   \n",
       "2  000229ec398224ef6ca0657da4fc703e  6489ae5e4333f3693df5ad4372dab6d3   \n",
       "\n",
       "  order_status order_purchase_timestamp    order_approved_at  \\\n",
       "0    delivered      2017-09-13 10:59:02  2017-09-13 11:45:35   \n",
       "1    delivered      2017-04-26 12:53:06  2017-04-26 13:05:13   \n",
       "2    delivered      2018-01-14 15:33:31  2018-01-14 15:48:30   \n",
       "\n",
       "  order_delivered_carrier_date order_delivered_customer_date  \\\n",
       "0          2017-09-19 20:34:16           2017-09-21 01:43:48   \n",
       "1          2017-05-04 16:35:00           2017-05-12 18:04:24   \n",
       "2          2018-01-16 13:36:48           2018-01-22 14:19:16   \n",
       "\n",
       "  order_estimated_delivery_date  \n",
       "0           2017-09-29 02:00:00  \n",
       "1           2017-05-15 02:00:00  \n",
       "2           2018-02-05 01:00:00  "
      ]
     },
     "execution_count": 5,
     "metadata": {},
     "output_type": "execute_result"
    }
   ],
   "source": [
    "orders_df.head(3)"
   ]
  },
  {
   "cell_type": "code",
   "execution_count": 8,
   "id": "d48ec9b7-8cd6-4820-969e-b6bbaaa195c8",
   "metadata": {},
   "outputs": [],
   "source": [
    "# convert the datatype of date-related columns into datetime\n",
    "\n",
    "orders_df['order_purchase_timestamp'] = pd.to_datetime(orders_df['order_purchase_timestamp'])\n",
    "orders_df['order_approved_at'] = pd.to_datetime(orders_df['order_approved_at'])\n",
    "orders_df['order_delivered_customer_date'] = pd.to_datetime(orders_df['order_delivered_customer_date'])\n",
    "orders_df['order_delivered_carrier_date'] = pd.to_datetime(orders_df['order_delivered_carrier_date'])\n",
    "orders_df['order_estimated_delivery_date'] = pd.to_datetime(orders_df['order_estimated_delivery_date'])"
   ]
  },
  {
   "cell_type": "code",
   "execution_count": 9,
   "id": "ef3dee19-e70f-43cb-a7c0-b6b0e0ae2fc6",
   "metadata": {},
   "outputs": [
    {
     "name": "stdout",
     "output_type": "stream",
     "text": [
      "<class 'pandas.core.frame.DataFrame'>\n",
      "RangeIndex: 99441 entries, 0 to 99440\n",
      "Data columns (total 8 columns):\n",
      " #   Column                         Non-Null Count  Dtype         \n",
      "---  ------                         --------------  -----         \n",
      " 0   order_id                       99441 non-null  object        \n",
      " 1   customer_id                    99441 non-null  object        \n",
      " 2   order_status                   99441 non-null  object        \n",
      " 3   order_purchase_timestamp       99441 non-null  datetime64[ns]\n",
      " 4   order_approved_at              99281 non-null  datetime64[ns]\n",
      " 5   order_delivered_carrier_date   97658 non-null  datetime64[ns]\n",
      " 6   order_delivered_customer_date  96476 non-null  datetime64[ns]\n",
      " 7   order_estimated_delivery_date  99441 non-null  datetime64[ns]\n",
      "dtypes: datetime64[ns](5), object(3)\n",
      "memory usage: 6.1+ MB\n"
     ]
    }
   ],
   "source": [
    "orders_df.info()"
   ]
  },
  {
   "cell_type": "code",
   "execution_count": 10,
   "id": "327bd599-f1a3-4820-b0e0-f970d614fba9",
   "metadata": {},
   "outputs": [
    {
     "data": {
      "text/plain": [
       "order_id                            0\n",
       "customer_id                         0\n",
       "order_status                        0\n",
       "order_purchase_timestamp            0\n",
       "order_approved_at                 160\n",
       "order_delivered_carrier_date     1783\n",
       "order_delivered_customer_date    2965\n",
       "order_estimated_delivery_date       0\n",
       "dtype: int64"
      ]
     },
     "execution_count": 10,
     "metadata": {},
     "output_type": "execute_result"
    }
   ],
   "source": [
    "orders_df.isna().sum()"
   ]
  },
  {
   "cell_type": "code",
   "execution_count": 11,
   "id": "fcb03af8-5fea-48d1-8120-4b860b6d679e",
   "metadata": {},
   "outputs": [
    {
     "data": {
      "text/plain": [
       "(99441, 8)"
      ]
     },
     "execution_count": 11,
     "metadata": {},
     "output_type": "execute_result"
    }
   ],
   "source": [
    "orders_df.shape"
   ]
  },
  {
   "cell_type": "code",
   "execution_count": 12,
   "id": "e04e8817-3e8b-4196-981f-19591fea3e1f",
   "metadata": {},
   "outputs": [
    {
     "name": "stdout",
     "output_type": "stream",
     "text": [
      "<class 'pandas.core.frame.DataFrame'>\n",
      "Index: 96476 entries, 0 to 99440\n",
      "Data columns (total 8 columns):\n",
      " #   Column                         Non-Null Count  Dtype         \n",
      "---  ------                         --------------  -----         \n",
      " 0   order_id                       96476 non-null  object        \n",
      " 1   customer_id                    96476 non-null  object        \n",
      " 2   order_status                   96476 non-null  object        \n",
      " 3   order_purchase_timestamp       96476 non-null  datetime64[ns]\n",
      " 4   order_approved_at              96462 non-null  datetime64[ns]\n",
      " 5   order_delivered_carrier_date   96475 non-null  datetime64[ns]\n",
      " 6   order_delivered_customer_date  96476 non-null  datetime64[ns]\n",
      " 7   order_estimated_delivery_date  96476 non-null  datetime64[ns]\n",
      "dtypes: datetime64[ns](5), object(3)\n",
      "memory usage: 6.6+ MB\n"
     ]
    }
   ],
   "source": [
    "# Null handling\n",
    "orders_df.dropna(subset='order_delivered_customer_date').info()"
   ]
  },
  {
   "cell_type": "code",
   "execution_count": 14,
   "id": "6fc9b218-4c25-4232-b021-161a581426d2",
   "metadata": {},
   "outputs": [],
   "source": [
    "# droping NULLs\n",
    "orders_df = orders_df.dropna()"
   ]
  },
  {
   "cell_type": "code",
   "execution_count": 16,
   "id": "c3d2dbd0-a6ef-4a6d-ae60-4be32b6f86fe",
   "metadata": {},
   "outputs": [
    {
     "data": {
      "text/plain": [
       "(96461, 8)"
      ]
     },
     "execution_count": 16,
     "metadata": {},
     "output_type": "execute_result"
    }
   ],
   "source": [
    "orders_df.shape"
   ]
  },
  {
   "cell_type": "code",
   "execution_count": 15,
   "id": "abc40034-de5b-40e5-a1f7-20c2de0fcddb",
   "metadata": {},
   "outputs": [
    {
     "data": {
      "text/plain": [
       "(96461, 8)"
      ]
     },
     "execution_count": 15,
     "metadata": {},
     "output_type": "execute_result"
    }
   ],
   "source": [
    "# duplicate handling\n",
    "orders_df.drop_duplicates().shape"
   ]
  },
  {
   "cell_type": "raw",
   "id": "66c63dab-2a70-465a-a5aa-efc03b7042bd",
   "metadata": {},
   "source": [
    "There are no duplicates"
   ]
  },
  {
   "cell_type": "markdown",
   "id": "52b471d6-b096-4b9e-9119-b442ab75dcfd",
   "metadata": {},
   "source": [
    "## 2.2. orders_items_df"
   ]
  },
  {
   "cell_type": "code",
   "execution_count": 17,
   "id": "1eb6fec2-966b-4374-a367-a1e502c5554a",
   "metadata": {},
   "outputs": [
    {
     "data": {
      "text/html": [
       "<div>\n",
       "<style scoped>\n",
       "    .dataframe tbody tr th:only-of-type {\n",
       "        vertical-align: middle;\n",
       "    }\n",
       "\n",
       "    .dataframe tbody tr th {\n",
       "        vertical-align: top;\n",
       "    }\n",
       "\n",
       "    .dataframe thead th {\n",
       "        text-align: right;\n",
       "    }\n",
       "</style>\n",
       "<table border=\"1\" class=\"dataframe\">\n",
       "  <thead>\n",
       "    <tr style=\"text-align: right;\">\n",
       "      <th></th>\n",
       "      <th>order_id</th>\n",
       "      <th>order_item_id</th>\n",
       "      <th>product_id</th>\n",
       "      <th>seller_id</th>\n",
       "      <th>shipping_limit_date</th>\n",
       "      <th>price</th>\n",
       "      <th>freight_value</th>\n",
       "    </tr>\n",
       "  </thead>\n",
       "  <tbody>\n",
       "    <tr>\n",
       "      <th>0</th>\n",
       "      <td>00010242fe8c5a6d1ba2dd792cb16214</td>\n",
       "      <td>1</td>\n",
       "      <td>4244733e06e7ecb4970a6e2683c13e61</td>\n",
       "      <td>48436dade18ac8b2bce089ec2a041202</td>\n",
       "      <td>2017-09-19 11:45:35</td>\n",
       "      <td>58.9</td>\n",
       "      <td>13.29</td>\n",
       "    </tr>\n",
       "    <tr>\n",
       "      <th>1</th>\n",
       "      <td>00018f77f2f0320c557190d7a144bdd3</td>\n",
       "      <td>1</td>\n",
       "      <td>e5f2d52b802189ee658865ca93d83a8f</td>\n",
       "      <td>dd7ddc04e1b6c2c614352b383efe2d36</td>\n",
       "      <td>2017-05-03 13:05:13</td>\n",
       "      <td>239.9</td>\n",
       "      <td>19.93</td>\n",
       "    </tr>\n",
       "  </tbody>\n",
       "</table>\n",
       "</div>"
      ],
      "text/plain": [
       "                           order_id  order_item_id  \\\n",
       "0  00010242fe8c5a6d1ba2dd792cb16214              1   \n",
       "1  00018f77f2f0320c557190d7a144bdd3              1   \n",
       "\n",
       "                         product_id                         seller_id  \\\n",
       "0  4244733e06e7ecb4970a6e2683c13e61  48436dade18ac8b2bce089ec2a041202   \n",
       "1  e5f2d52b802189ee658865ca93d83a8f  dd7ddc04e1b6c2c614352b383efe2d36   \n",
       "\n",
       "   shipping_limit_date  price  freight_value  \n",
       "0  2017-09-19 11:45:35   58.9          13.29  \n",
       "1  2017-05-03 13:05:13  239.9          19.93  "
      ]
     },
     "execution_count": 17,
     "metadata": {},
     "output_type": "execute_result"
    }
   ],
   "source": [
    "order_items_df.head(2)"
   ]
  },
  {
   "cell_type": "code",
   "execution_count": 18,
   "id": "925868dd-d6ca-42d4-ba71-971948c0b6a1",
   "metadata": {},
   "outputs": [
    {
     "name": "stdout",
     "output_type": "stream",
     "text": [
      "<class 'pandas.core.frame.DataFrame'>\n",
      "RangeIndex: 112650 entries, 0 to 112649\n",
      "Data columns (total 7 columns):\n",
      " #   Column               Non-Null Count   Dtype  \n",
      "---  ------               --------------   -----  \n",
      " 0   order_id             112650 non-null  object \n",
      " 1   order_item_id        112650 non-null  int64  \n",
      " 2   product_id           112650 non-null  object \n",
      " 3   seller_id            112650 non-null  object \n",
      " 4   shipping_limit_date  112650 non-null  object \n",
      " 5   price                112650 non-null  float64\n",
      " 6   freight_value        112650 non-null  float64\n",
      "dtypes: float64(2), int64(1), object(4)\n",
      "memory usage: 6.0+ MB\n"
     ]
    }
   ],
   "source": [
    "order_items_df.info()"
   ]
  },
  {
   "cell_type": "code",
   "execution_count": 19,
   "id": "fd3b6c45-34c1-499c-b1ad-28c88770816c",
   "metadata": {},
   "outputs": [],
   "source": [
    "# convert the datatype of date column\n",
    "order_items_df['shipping_limit_date'] = pd.to_datetime(order_items_df['shipping_limit_date'])"
   ]
  },
  {
   "cell_type": "code",
   "execution_count": 20,
   "id": "c9a0ff97-2c25-4277-8bef-e7ed164a9201",
   "metadata": {
    "collapsed": true,
    "jupyter": {
     "outputs_hidden": true
    }
   },
   "outputs": [
    {
     "name": "stdout",
     "output_type": "stream",
     "text": [
      "<class 'pandas.core.frame.DataFrame'>\n",
      "RangeIndex: 112650 entries, 0 to 112649\n",
      "Data columns (total 7 columns):\n",
      " #   Column               Non-Null Count   Dtype         \n",
      "---  ------               --------------   -----         \n",
      " 0   order_id             112650 non-null  object        \n",
      " 1   order_item_id        112650 non-null  int64         \n",
      " 2   product_id           112650 non-null  object        \n",
      " 3   seller_id            112650 non-null  object        \n",
      " 4   shipping_limit_date  112650 non-null  datetime64[ns]\n",
      " 5   price                112650 non-null  float64       \n",
      " 6   freight_value        112650 non-null  float64       \n",
      "dtypes: datetime64[ns](1), float64(2), int64(1), object(3)\n",
      "memory usage: 6.0+ MB\n"
     ]
    }
   ],
   "source": [
    "order_items_df.info()"
   ]
  },
  {
   "cell_type": "code",
   "execution_count": 21,
   "id": "1c3888b1-120e-4f3c-96f3-591ba42a2eed",
   "metadata": {},
   "outputs": [
    {
     "data": {
      "text/plain": [
       "(112650, 7)"
      ]
     },
     "execution_count": 21,
     "metadata": {},
     "output_type": "execute_result"
    }
   ],
   "source": [
    "order_items_df.drop_duplicates().shape"
   ]
  },
  {
   "cell_type": "raw",
   "id": "e0fbf379-6671-4fc8-abe7-2d89cb20592a",
   "metadata": {},
   "source": [
    "So: There is no duplicate and no Null values"
   ]
  },
  {
   "cell_type": "markdown",
   "id": "f5c026c5-4735-440a-bbb6-840e531bcd9e",
   "metadata": {},
   "source": [
    "## 2.3. products_df"
   ]
  },
  {
   "cell_type": "code",
   "execution_count": 22,
   "id": "200bcfc9-aa8b-4822-9b76-f79e13f825ae",
   "metadata": {},
   "outputs": [
    {
     "data": {
      "text/html": [
       "<div>\n",
       "<style scoped>\n",
       "    .dataframe tbody tr th:only-of-type {\n",
       "        vertical-align: middle;\n",
       "    }\n",
       "\n",
       "    .dataframe tbody tr th {\n",
       "        vertical-align: top;\n",
       "    }\n",
       "\n",
       "    .dataframe thead th {\n",
       "        text-align: right;\n",
       "    }\n",
       "</style>\n",
       "<table border=\"1\" class=\"dataframe\">\n",
       "  <thead>\n",
       "    <tr style=\"text-align: right;\">\n",
       "      <th></th>\n",
       "      <th>product_id</th>\n",
       "      <th>product_category_name</th>\n",
       "      <th>product_name_length</th>\n",
       "      <th>product_description_length</th>\n",
       "      <th>product_photos_qty</th>\n",
       "      <th>product_weight_g</th>\n",
       "      <th>product_length_cm</th>\n",
       "      <th>product_height_cm</th>\n",
       "      <th>product_width_cm</th>\n",
       "    </tr>\n",
       "  </thead>\n",
       "  <tbody>\n",
       "    <tr>\n",
       "      <th>0</th>\n",
       "      <td>00066f42aeeb9f3007548bb9d3f33c38</td>\n",
       "      <td>perfumaria</td>\n",
       "      <td>53</td>\n",
       "      <td>596</td>\n",
       "      <td>6</td>\n",
       "      <td>300</td>\n",
       "      <td>20</td>\n",
       "      <td>16</td>\n",
       "      <td>16</td>\n",
       "    </tr>\n",
       "    <tr>\n",
       "      <th>1</th>\n",
       "      <td>00088930e925c41fd95ebfe695fd2655</td>\n",
       "      <td>automotivo</td>\n",
       "      <td>56</td>\n",
       "      <td>752</td>\n",
       "      <td>4</td>\n",
       "      <td>1225</td>\n",
       "      <td>55</td>\n",
       "      <td>10</td>\n",
       "      <td>26</td>\n",
       "    </tr>\n",
       "    <tr>\n",
       "      <th>2</th>\n",
       "      <td>0009406fd7479715e4bef61dd91f2462</td>\n",
       "      <td>cama_mesa_banho</td>\n",
       "      <td>50</td>\n",
       "      <td>266</td>\n",
       "      <td>2</td>\n",
       "      <td>300</td>\n",
       "      <td>45</td>\n",
       "      <td>15</td>\n",
       "      <td>35</td>\n",
       "    </tr>\n",
       "  </tbody>\n",
       "</table>\n",
       "</div>"
      ],
      "text/plain": [
       "                         product_id product_category_name  \\\n",
       "0  00066f42aeeb9f3007548bb9d3f33c38            perfumaria   \n",
       "1  00088930e925c41fd95ebfe695fd2655            automotivo   \n",
       "2  0009406fd7479715e4bef61dd91f2462       cama_mesa_banho   \n",
       "\n",
       "   product_name_length  product_description_length  product_photos_qty  \\\n",
       "0                   53                         596                   6   \n",
       "1                   56                         752                   4   \n",
       "2                   50                         266                   2   \n",
       "\n",
       "   product_weight_g  product_length_cm  product_height_cm  product_width_cm  \n",
       "0               300                 20                 16                16  \n",
       "1              1225                 55                 10                26  \n",
       "2               300                 45                 15                35  "
      ]
     },
     "execution_count": 22,
     "metadata": {},
     "output_type": "execute_result"
    }
   ],
   "source": [
    "products_df.head(3)"
   ]
  },
  {
   "cell_type": "code",
   "execution_count": 23,
   "id": "c46cee70-0930-4683-8bd2-670692e5d900",
   "metadata": {},
   "outputs": [
    {
     "name": "stdout",
     "output_type": "stream",
     "text": [
      "<class 'pandas.core.frame.DataFrame'>\n",
      "RangeIndex: 32951 entries, 0 to 32950\n",
      "Data columns (total 9 columns):\n",
      " #   Column                      Non-Null Count  Dtype \n",
      "---  ------                      --------------  ----- \n",
      " 0   product_id                  32951 non-null  object\n",
      " 1   product_category_name       32951 non-null  object\n",
      " 2   product_name_length         32951 non-null  int64 \n",
      " 3   product_description_length  32951 non-null  int64 \n",
      " 4   product_photos_qty          32951 non-null  int64 \n",
      " 5   product_weight_g            32951 non-null  int64 \n",
      " 6   product_length_cm           32951 non-null  int64 \n",
      " 7   product_height_cm           32951 non-null  int64 \n",
      " 8   product_width_cm            32951 non-null  int64 \n",
      "dtypes: int64(7), object(2)\n",
      "memory usage: 2.3+ MB\n"
     ]
    }
   ],
   "source": [
    "products_df.info()"
   ]
  },
  {
   "cell_type": "code",
   "execution_count": 24,
   "id": "08c6f04b-a032-4d7a-9ab3-ed6ceaa1c8cf",
   "metadata": {},
   "outputs": [
    {
     "data": {
      "text/plain": [
       "(32951, 9)"
      ]
     },
     "execution_count": 24,
     "metadata": {},
     "output_type": "execute_result"
    }
   ],
   "source": [
    "products_df.drop_duplicates().shape"
   ]
  },
  {
   "cell_type": "raw",
   "id": "10192906-9735-495b-92a6-cf498b3da551",
   "metadata": {},
   "source": [
    "\"So, There is no null and no duplicate\""
   ]
  },
  {
   "cell_type": "markdown",
   "id": "1386c5df-1089-4d96-882e-1be65b76d277",
   "metadata": {},
   "source": [
    "### change the produtcs' names using product_category_name_translation_df"
   ]
  },
  {
   "cell_type": "code",
   "execution_count": 25,
   "id": "01769f91-2cec-4a7a-bb64-68e5193c9fca",
   "metadata": {},
   "outputs": [
    {
     "data": {
      "text/html": [
       "<div>\n",
       "<style scoped>\n",
       "    .dataframe tbody tr th:only-of-type {\n",
       "        vertical-align: middle;\n",
       "    }\n",
       "\n",
       "    .dataframe tbody tr th {\n",
       "        vertical-align: top;\n",
       "    }\n",
       "\n",
       "    .dataframe thead th {\n",
       "        text-align: right;\n",
       "    }\n",
       "</style>\n",
       "<table border=\"1\" class=\"dataframe\">\n",
       "  <thead>\n",
       "    <tr style=\"text-align: right;\">\n",
       "      <th></th>\n",
       "      <th>product_category_name</th>\n",
       "      <th>product_category_name_english</th>\n",
       "    </tr>\n",
       "  </thead>\n",
       "  <tbody>\n",
       "    <tr>\n",
       "      <th>0</th>\n",
       "      <td>agro_industria_e_comercio</td>\n",
       "      <td>agro_industry_and_commerce</td>\n",
       "    </tr>\n",
       "    <tr>\n",
       "      <th>1</th>\n",
       "      <td>alimentos</td>\n",
       "      <td>food</td>\n",
       "    </tr>\n",
       "  </tbody>\n",
       "</table>\n",
       "</div>"
      ],
      "text/plain": [
       "       product_category_name product_category_name_english\n",
       "0  agro_industria_e_comercio    agro_industry_and_commerce\n",
       "1                  alimentos                          food"
      ]
     },
     "execution_count": 25,
     "metadata": {},
     "output_type": "execute_result"
    }
   ],
   "source": [
    "product_category_name_translation_df.head(2)"
   ]
  },
  {
   "cell_type": "code",
   "execution_count": 26,
   "id": "815222b5-6782-4728-8ef3-f79704476561",
   "metadata": {},
   "outputs": [
    {
     "name": "stdout",
     "output_type": "stream",
     "text": [
      "<class 'pandas.core.frame.DataFrame'>\n",
      "RangeIndex: 74 entries, 0 to 73\n",
      "Data columns (total 2 columns):\n",
      " #   Column                         Non-Null Count  Dtype \n",
      "---  ------                         --------------  ----- \n",
      " 0   product_category_name          74 non-null     object\n",
      " 1   product_category_name_english  74 non-null     object\n",
      "dtypes: object(2)\n",
      "memory usage: 1.3+ KB\n"
     ]
    }
   ],
   "source": [
    "product_category_name_translation_df.info()"
   ]
  },
  {
   "cell_type": "code",
   "execution_count": 27,
   "id": "5b543729-67f3-44ba-adf1-39b64b699dd9",
   "metadata": {},
   "outputs": [],
   "source": [
    "# merge to dataframes, products _df & product_category_name_translation_df\n",
    "\n",
    "merged_product_translation = pd.merge(products_df , product_category_name_translation_df, on='product_category_name', how='left')"
   ]
  },
  {
   "cell_type": "code",
   "execution_count": 28,
   "id": "fd0dda3d-3a4b-4f76-9de3-12487c4906db",
   "metadata": {},
   "outputs": [
    {
     "data": {
      "text/html": [
       "<div>\n",
       "<style scoped>\n",
       "    .dataframe tbody tr th:only-of-type {\n",
       "        vertical-align: middle;\n",
       "    }\n",
       "\n",
       "    .dataframe tbody tr th {\n",
       "        vertical-align: top;\n",
       "    }\n",
       "\n",
       "    .dataframe thead th {\n",
       "        text-align: right;\n",
       "    }\n",
       "</style>\n",
       "<table border=\"1\" class=\"dataframe\">\n",
       "  <thead>\n",
       "    <tr style=\"text-align: right;\">\n",
       "      <th></th>\n",
       "      <th>product_id</th>\n",
       "      <th>product_category_name</th>\n",
       "      <th>product_name_length</th>\n",
       "      <th>product_description_length</th>\n",
       "      <th>product_photos_qty</th>\n",
       "      <th>product_weight_g</th>\n",
       "      <th>product_length_cm</th>\n",
       "      <th>product_height_cm</th>\n",
       "      <th>product_width_cm</th>\n",
       "      <th>product_category_name_english</th>\n",
       "    </tr>\n",
       "  </thead>\n",
       "  <tbody>\n",
       "    <tr>\n",
       "      <th>164</th>\n",
       "      <td>014fcf6bd5cd4c7ee29fb3bb618c445e</td>\n",
       "      <td>outros</td>\n",
       "      <td>0</td>\n",
       "      <td>0</td>\n",
       "      <td>0</td>\n",
       "      <td>7000</td>\n",
       "      <td>55</td>\n",
       "      <td>30</td>\n",
       "      <td>45</td>\n",
       "      <td>others</td>\n",
       "    </tr>\n",
       "    <tr>\n",
       "      <th>31343</th>\n",
       "      <td>f361fccba568fabe00db466f80626d1e</td>\n",
       "      <td>automotivo</td>\n",
       "      <td>20</td>\n",
       "      <td>908</td>\n",
       "      <td>1</td>\n",
       "      <td>75</td>\n",
       "      <td>17</td>\n",
       "      <td>8</td>\n",
       "      <td>13</td>\n",
       "      <td>auto</td>\n",
       "    </tr>\n",
       "    <tr>\n",
       "      <th>20737</th>\n",
       "      <td>a152e968e6e943c06ca8ad6fbafc72a0</td>\n",
       "      <td>papelaria</td>\n",
       "      <td>59</td>\n",
       "      <td>315</td>\n",
       "      <td>4</td>\n",
       "      <td>5750</td>\n",
       "      <td>60</td>\n",
       "      <td>20</td>\n",
       "      <td>29</td>\n",
       "      <td>stationery</td>\n",
       "    </tr>\n",
       "    <tr>\n",
       "      <th>24979</th>\n",
       "      <td>c23bb9673ec1f70f31171d5a7dff1260</td>\n",
       "      <td>cama_mesa_banho</td>\n",
       "      <td>53</td>\n",
       "      <td>396</td>\n",
       "      <td>1</td>\n",
       "      <td>550</td>\n",
       "      <td>16</td>\n",
       "      <td>10</td>\n",
       "      <td>16</td>\n",
       "      <td>bed_bath_table</td>\n",
       "    </tr>\n",
       "  </tbody>\n",
       "</table>\n",
       "</div>"
      ],
      "text/plain": [
       "                             product_id product_category_name  \\\n",
       "164    014fcf6bd5cd4c7ee29fb3bb618c445e                outros   \n",
       "31343  f361fccba568fabe00db466f80626d1e            automotivo   \n",
       "20737  a152e968e6e943c06ca8ad6fbafc72a0             papelaria   \n",
       "24979  c23bb9673ec1f70f31171d5a7dff1260       cama_mesa_banho   \n",
       "\n",
       "       product_name_length  product_description_length  product_photos_qty  \\\n",
       "164                      0                           0                   0   \n",
       "31343                   20                         908                   1   \n",
       "20737                   59                         315                   4   \n",
       "24979                   53                         396                   1   \n",
       "\n",
       "       product_weight_g  product_length_cm  product_height_cm  \\\n",
       "164                7000                 55                 30   \n",
       "31343                75                 17                  8   \n",
       "20737              5750                 60                 20   \n",
       "24979               550                 16                 10   \n",
       "\n",
       "       product_width_cm product_category_name_english  \n",
       "164                  45                        others  \n",
       "31343                13                          auto  \n",
       "20737                29                    stationery  \n",
       "24979                16                bed_bath_table  "
      ]
     },
     "execution_count": 28,
     "metadata": {},
     "output_type": "execute_result"
    }
   ],
   "source": [
    "merged_product_translation.sample(4)"
   ]
  },
  {
   "cell_type": "code",
   "execution_count": 29,
   "id": "6fe6364c-ed2e-4339-87a4-ce96a8728d63",
   "metadata": {},
   "outputs": [],
   "source": [
    "# drop the products' names ('product_category_name' column)\n",
    "merged_product_translation = merged_product_translation.drop(columns=['product_category_name'])\n"
   ]
  },
  {
   "cell_type": "code",
   "execution_count": 30,
   "id": "1dda8b43-4bf1-4fd5-b7cb-28723fc91c73",
   "metadata": {},
   "outputs": [],
   "source": [
    "# Rename the 'product_category_name_english' column to 'product_category_name'\n",
    "merged_product_translation.rename(columns= {'product_category_name_english':'product_category_name'}, inplace=True)"
   ]
  },
  {
   "cell_type": "code",
   "execution_count": 32,
   "id": "6cab98ab-ae8d-469c-9788-6c49d4f2e8a1",
   "metadata": {},
   "outputs": [],
   "source": [
    "translated_products_df = merged_product_translation.copy()"
   ]
  },
  {
   "cell_type": "markdown",
   "id": "d2becdb1-d7a2-4fb0-b51f-8af6e760b669",
   "metadata": {},
   "source": [
    "## 2.4. customers_df"
   ]
  },
  {
   "cell_type": "code",
   "execution_count": 33,
   "id": "f68fa52c-1e23-42d9-a509-c2943bb17ec9",
   "metadata": {},
   "outputs": [
    {
     "data": {
      "text/html": [
       "<div>\n",
       "<style scoped>\n",
       "    .dataframe tbody tr th:only-of-type {\n",
       "        vertical-align: middle;\n",
       "    }\n",
       "\n",
       "    .dataframe tbody tr th {\n",
       "        vertical-align: top;\n",
       "    }\n",
       "\n",
       "    .dataframe thead th {\n",
       "        text-align: right;\n",
       "    }\n",
       "</style>\n",
       "<table border=\"1\" class=\"dataframe\">\n",
       "  <thead>\n",
       "    <tr style=\"text-align: right;\">\n",
       "      <th></th>\n",
       "      <th>customer_id</th>\n",
       "      <th>customer_zip_code_prefix</th>\n",
       "    </tr>\n",
       "  </thead>\n",
       "  <tbody>\n",
       "    <tr>\n",
       "      <th>10829</th>\n",
       "      <td>2f5d425fd3094d84a0a7d9fb14412279</td>\n",
       "      <td>4890</td>\n",
       "    </tr>\n",
       "    <tr>\n",
       "      <th>97929</th>\n",
       "      <td>42da83bec6f09f825ff65b49cd4fd618</td>\n",
       "      <td>96470</td>\n",
       "    </tr>\n",
       "    <tr>\n",
       "      <th>91525</th>\n",
       "      <td>fda22da528e2ea3d3ab92fc76b64a014</td>\n",
       "      <td>88330</td>\n",
       "    </tr>\n",
       "  </tbody>\n",
       "</table>\n",
       "</div>"
      ],
      "text/plain": [
       "                            customer_id  customer_zip_code_prefix\n",
       "10829  2f5d425fd3094d84a0a7d9fb14412279                      4890\n",
       "97929  42da83bec6f09f825ff65b49cd4fd618                     96470\n",
       "91525  fda22da528e2ea3d3ab92fc76b64a014                     88330"
      ]
     },
     "execution_count": 33,
     "metadata": {},
     "output_type": "execute_result"
    }
   ],
   "source": [
    "customers_df.sample(3)"
   ]
  },
  {
   "cell_type": "code",
   "execution_count": 34,
   "id": "65a2fc58-c5b1-4f6a-9481-49a513c7cb5c",
   "metadata": {},
   "outputs": [
    {
     "name": "stdout",
     "output_type": "stream",
     "text": [
      "<class 'pandas.core.frame.DataFrame'>\n",
      "RangeIndex: 99441 entries, 0 to 99440\n",
      "Data columns (total 2 columns):\n",
      " #   Column                    Non-Null Count  Dtype \n",
      "---  ------                    --------------  ----- \n",
      " 0   customer_id               99441 non-null  object\n",
      " 1   customer_zip_code_prefix  99441 non-null  int64 \n",
      "dtypes: int64(1), object(1)\n",
      "memory usage: 1.5+ MB\n"
     ]
    }
   ],
   "source": [
    "customers_df.info()"
   ]
  },
  {
   "cell_type": "code",
   "execution_count": 35,
   "id": "e068ff6a-1e11-406a-a651-aed500b06625",
   "metadata": {},
   "outputs": [
    {
     "data": {
      "text/plain": [
       "(99441, 2)"
      ]
     },
     "execution_count": 35,
     "metadata": {},
     "output_type": "execute_result"
    }
   ],
   "source": [
    "customers_df.drop_duplicates().shape"
   ]
  },
  {
   "cell_type": "markdown",
   "id": "0c953318-f8c7-4678-8208-65f41439b891",
   "metadata": {},
   "source": [
    "## 2.5. sellers_df"
   ]
  },
  {
   "cell_type": "code",
   "execution_count": 36,
   "id": "2f0cfad3-985d-406b-adb2-4b5c2cd5ff0c",
   "metadata": {},
   "outputs": [
    {
     "data": {
      "text/html": [
       "<div>\n",
       "<style scoped>\n",
       "    .dataframe tbody tr th:only-of-type {\n",
       "        vertical-align: middle;\n",
       "    }\n",
       "\n",
       "    .dataframe tbody tr th {\n",
       "        vertical-align: top;\n",
       "    }\n",
       "\n",
       "    .dataframe thead th {\n",
       "        text-align: right;\n",
       "    }\n",
       "</style>\n",
       "<table border=\"1\" class=\"dataframe\">\n",
       "  <thead>\n",
       "    <tr style=\"text-align: right;\">\n",
       "      <th></th>\n",
       "      <th>seller_id</th>\n",
       "      <th>seller_zip_code_prefix</th>\n",
       "    </tr>\n",
       "  </thead>\n",
       "  <tbody>\n",
       "    <tr>\n",
       "      <th>847</th>\n",
       "      <td>c2bda99904207edd1834f03e0022b007</td>\n",
       "      <td>8280</td>\n",
       "    </tr>\n",
       "    <tr>\n",
       "      <th>2174</th>\n",
       "      <td>34d1ca11b242c0fee2c834ae8d788566</td>\n",
       "      <td>36415</td>\n",
       "    </tr>\n",
       "    <tr>\n",
       "      <th>2126</th>\n",
       "      <td>d558ebe531605a1285ab2b1bc3256dfb</td>\n",
       "      <td>35501</td>\n",
       "    </tr>\n",
       "  </tbody>\n",
       "</table>\n",
       "</div>"
      ],
      "text/plain": [
       "                             seller_id  seller_zip_code_prefix\n",
       "847   c2bda99904207edd1834f03e0022b007                    8280\n",
       "2174  34d1ca11b242c0fee2c834ae8d788566                   36415\n",
       "2126  d558ebe531605a1285ab2b1bc3256dfb                   35501"
      ]
     },
     "execution_count": 36,
     "metadata": {},
     "output_type": "execute_result"
    }
   ],
   "source": [
    "sellers_df.sample(3)"
   ]
  },
  {
   "cell_type": "code",
   "execution_count": 37,
   "id": "44655a9a-4e67-46b0-934b-07468f74534c",
   "metadata": {},
   "outputs": [
    {
     "name": "stdout",
     "output_type": "stream",
     "text": [
      "<class 'pandas.core.frame.DataFrame'>\n",
      "RangeIndex: 3095 entries, 0 to 3094\n",
      "Data columns (total 2 columns):\n",
      " #   Column                  Non-Null Count  Dtype \n",
      "---  ------                  --------------  ----- \n",
      " 0   seller_id               3095 non-null   object\n",
      " 1   seller_zip_code_prefix  3095 non-null   int64 \n",
      "dtypes: int64(1), object(1)\n",
      "memory usage: 48.5+ KB\n"
     ]
    }
   ],
   "source": [
    "sellers_df.info()"
   ]
  },
  {
   "cell_type": "code",
   "execution_count": 40,
   "id": "3544aaf9-d6ca-48cb-958f-97663a64874d",
   "metadata": {},
   "outputs": [
    {
     "data": {
      "text/plain": [
       "(3095, 2)"
      ]
     },
     "execution_count": 40,
     "metadata": {},
     "output_type": "execute_result"
    }
   ],
   "source": [
    "sellers_df.drop_duplicates().shape"
   ]
  },
  {
   "cell_type": "raw",
   "id": "286a4240-5606-49bf-9735-abead79b6cf0",
   "metadata": {},
   "source": [
    "no duplicate, no Null. "
   ]
  },
  {
   "cell_type": "markdown",
   "id": "af644b3f-56b1-43ad-adee-b30b2b8f8f86",
   "metadata": {},
   "source": [
    "## 2.6. order_payments_df"
   ]
  },
  {
   "cell_type": "code",
   "execution_count": 41,
   "id": "0fca4495-4977-42a6-9f5b-72eef72fde8e",
   "metadata": {},
   "outputs": [
    {
     "data": {
      "text/html": [
       "<div>\n",
       "<style scoped>\n",
       "    .dataframe tbody tr th:only-of-type {\n",
       "        vertical-align: middle;\n",
       "    }\n",
       "\n",
       "    .dataframe tbody tr th {\n",
       "        vertical-align: top;\n",
       "    }\n",
       "\n",
       "    .dataframe thead th {\n",
       "        text-align: right;\n",
       "    }\n",
       "</style>\n",
       "<table border=\"1\" class=\"dataframe\">\n",
       "  <thead>\n",
       "    <tr style=\"text-align: right;\">\n",
       "      <th></th>\n",
       "      <th>order_id</th>\n",
       "      <th>payment_sequential</th>\n",
       "      <th>payment_type</th>\n",
       "      <th>payment_installments</th>\n",
       "      <th>payment_value</th>\n",
       "    </tr>\n",
       "  </thead>\n",
       "  <tbody>\n",
       "    <tr>\n",
       "      <th>0</th>\n",
       "      <td>b81ef226f3fe1789b1e8b2acac839d17</td>\n",
       "      <td>1</td>\n",
       "      <td>credit_card</td>\n",
       "      <td>8</td>\n",
       "      <td>99.33</td>\n",
       "    </tr>\n",
       "    <tr>\n",
       "      <th>1</th>\n",
       "      <td>a9810da82917af2d9aefd1278f1dcfa0</td>\n",
       "      <td>1</td>\n",
       "      <td>credit_card</td>\n",
       "      <td>1</td>\n",
       "      <td>24.39</td>\n",
       "    </tr>\n",
       "    <tr>\n",
       "      <th>2</th>\n",
       "      <td>25e8ea4e93396b6fa0d3dd708e76c1bd</td>\n",
       "      <td>1</td>\n",
       "      <td>credit_card</td>\n",
       "      <td>1</td>\n",
       "      <td>65.71</td>\n",
       "    </tr>\n",
       "  </tbody>\n",
       "</table>\n",
       "</div>"
      ],
      "text/plain": [
       "                           order_id  payment_sequential payment_type  \\\n",
       "0  b81ef226f3fe1789b1e8b2acac839d17                   1  credit_card   \n",
       "1  a9810da82917af2d9aefd1278f1dcfa0                   1  credit_card   \n",
       "2  25e8ea4e93396b6fa0d3dd708e76c1bd                   1  credit_card   \n",
       "\n",
       "   payment_installments  payment_value  \n",
       "0                     8          99.33  \n",
       "1                     1          24.39  \n",
       "2                     1          65.71  "
      ]
     },
     "execution_count": 41,
     "metadata": {},
     "output_type": "execute_result"
    }
   ],
   "source": [
    "order_payments_df.head(3)"
   ]
  },
  {
   "cell_type": "code",
   "execution_count": 42,
   "id": "84b6ea24-7f0c-4e0e-83e9-451216a6f595",
   "metadata": {},
   "outputs": [
    {
     "name": "stdout",
     "output_type": "stream",
     "text": [
      "<class 'pandas.core.frame.DataFrame'>\n",
      "RangeIndex: 103886 entries, 0 to 103885\n",
      "Data columns (total 5 columns):\n",
      " #   Column                Non-Null Count   Dtype  \n",
      "---  ------                --------------   -----  \n",
      " 0   order_id              103886 non-null  object \n",
      " 1   payment_sequential    103886 non-null  int64  \n",
      " 2   payment_type          103886 non-null  object \n",
      " 3   payment_installments  103886 non-null  int64  \n",
      " 4   payment_value         103886 non-null  float64\n",
      "dtypes: float64(1), int64(2), object(2)\n",
      "memory usage: 4.0+ MB\n"
     ]
    }
   ],
   "source": [
    "order_payments_df.info()"
   ]
  },
  {
   "cell_type": "code",
   "execution_count": 43,
   "id": "870b1f2e-d56f-4a86-9ed5-358d7125ae8a",
   "metadata": {},
   "outputs": [
    {
     "data": {
      "text/plain": [
       "(103886, 5)"
      ]
     },
     "execution_count": 43,
     "metadata": {},
     "output_type": "execute_result"
    }
   ],
   "source": [
    "order_payments_df.drop_duplicates().shape"
   ]
  },
  {
   "cell_type": "markdown",
   "id": "d6462f95-d377-4cc0-8f57-82c284692a2a",
   "metadata": {},
   "source": [
    "## 2.7. order_reviews_df"
   ]
  },
  {
   "cell_type": "code",
   "execution_count": 44,
   "id": "5671a9ee-7337-4e22-bc6d-f0356f3e8937",
   "metadata": {},
   "outputs": [
    {
     "data": {
      "text/html": [
       "<div>\n",
       "<style scoped>\n",
       "    .dataframe tbody tr th:only-of-type {\n",
       "        vertical-align: middle;\n",
       "    }\n",
       "\n",
       "    .dataframe tbody tr th {\n",
       "        vertical-align: top;\n",
       "    }\n",
       "\n",
       "    .dataframe thead th {\n",
       "        text-align: right;\n",
       "    }\n",
       "</style>\n",
       "<table border=\"1\" class=\"dataframe\">\n",
       "  <thead>\n",
       "    <tr style=\"text-align: right;\">\n",
       "      <th></th>\n",
       "      <th>review_id</th>\n",
       "      <th>order_id</th>\n",
       "      <th>review_score</th>\n",
       "      <th>review_comment_title</th>\n",
       "      <th>review_comment_message</th>\n",
       "      <th>review_creation_date</th>\n",
       "      <th>review_answer_timestamp</th>\n",
       "    </tr>\n",
       "  </thead>\n",
       "  <tbody>\n",
       "    <tr>\n",
       "      <th>0</th>\n",
       "      <td>0001239bc1de2e33cb583967c2ca4c67</td>\n",
       "      <td>fc046d7776171871436844218f817d7d</td>\n",
       "      <td>5</td>\n",
       "      <td>NaN</td>\n",
       "      <td>NaN</td>\n",
       "      <td>2018-03-20 01:00:00</td>\n",
       "      <td>2018-03-20 19:36:04</td>\n",
       "    </tr>\n",
       "    <tr>\n",
       "      <th>1</th>\n",
       "      <td>0001cc6860aeaf5b9017fe4131a52e62</td>\n",
       "      <td>d4665434b01caa9dc3e3e78b3eb3593e</td>\n",
       "      <td>5</td>\n",
       "      <td>NaN</td>\n",
       "      <td>NaN</td>\n",
       "      <td>2018-06-22 02:00:00</td>\n",
       "      <td>2018-06-26 15:51:29</td>\n",
       "    </tr>\n",
       "    <tr>\n",
       "      <th>2</th>\n",
       "      <td>00020c7512a52e92212f12d3e37513c0</td>\n",
       "      <td>e28abf2eb2f1fbcbdc2dd0cd9a561671</td>\n",
       "      <td>5</td>\n",
       "      <td>Entrega rápida!</td>\n",
       "      <td>A entrega foi super rápida e o pendente é lind...</td>\n",
       "      <td>2018-04-25 02:00:00</td>\n",
       "      <td>2018-04-26 16:55:36</td>\n",
       "    </tr>\n",
       "  </tbody>\n",
       "</table>\n",
       "</div>"
      ],
      "text/plain": [
       "                          review_id                          order_id  \\\n",
       "0  0001239bc1de2e33cb583967c2ca4c67  fc046d7776171871436844218f817d7d   \n",
       "1  0001cc6860aeaf5b9017fe4131a52e62  d4665434b01caa9dc3e3e78b3eb3593e   \n",
       "2  00020c7512a52e92212f12d3e37513c0  e28abf2eb2f1fbcbdc2dd0cd9a561671   \n",
       "\n",
       "   review_score review_comment_title  \\\n",
       "0             5                  NaN   \n",
       "1             5                  NaN   \n",
       "2             5      Entrega rápida!   \n",
       "\n",
       "                              review_comment_message review_creation_date  \\\n",
       "0                                                NaN  2018-03-20 01:00:00   \n",
       "1                                                NaN  2018-06-22 02:00:00   \n",
       "2  A entrega foi super rápida e o pendente é lind...  2018-04-25 02:00:00   \n",
       "\n",
       "  review_answer_timestamp  \n",
       "0     2018-03-20 19:36:04  \n",
       "1     2018-06-26 15:51:29  \n",
       "2     2018-04-26 16:55:36  "
      ]
     },
     "execution_count": 44,
     "metadata": {},
     "output_type": "execute_result"
    }
   ],
   "source": [
    "order_reviews_df.head(3)"
   ]
  },
  {
   "cell_type": "code",
   "execution_count": 45,
   "id": "508cdd6b-6e13-4ffa-bf4a-ec3404a9546c",
   "metadata": {},
   "outputs": [
    {
     "name": "stdout",
     "output_type": "stream",
     "text": [
      "<class 'pandas.core.frame.DataFrame'>\n",
      "RangeIndex: 98371 entries, 0 to 98370\n",
      "Data columns (total 7 columns):\n",
      " #   Column                   Non-Null Count  Dtype \n",
      "---  ------                   --------------  ----- \n",
      " 0   review_id                98371 non-null  object\n",
      " 1   order_id                 98371 non-null  object\n",
      " 2   review_score             98371 non-null  int64 \n",
      " 3   review_comment_title     11618 non-null  object\n",
      " 4   review_comment_message   41119 non-null  object\n",
      " 5   review_creation_date     98371 non-null  object\n",
      " 6   review_answer_timestamp  98371 non-null  object\n",
      "dtypes: int64(1), object(6)\n",
      "memory usage: 5.3+ MB\n"
     ]
    }
   ],
   "source": [
    "order_reviews_df.info()"
   ]
  },
  {
   "cell_type": "code",
   "execution_count": null,
   "id": "05830afc-96ed-4b22-a54a-7b62a6ebff51",
   "metadata": {},
   "outputs": [],
   "source": [
    "# we keep just review_score, which has no Null, so we leave other Nulls!"
   ]
  },
  {
   "cell_type": "markdown",
   "id": "dbd60804-5449-4d57-8487-36bea90824d7",
   "metadata": {},
   "source": [
    "---"
   ]
  },
  {
   "cell_type": "markdown",
   "id": "6d1513c3-cae9-4d32-9625-8a740e0ee215",
   "metadata": {},
   "source": [
    "#  3. Answer business questions"
   ]
  },
  {
   "cell_type": "markdown",
   "id": "7eed3f5c-c848-4cff-b84a-873149f51992",
   "metadata": {},
   "source": [
    "### 3.1.How many months of data are included in the magist database?"
   ]
  },
  {
   "cell_type": "code",
   "execution_count": 48,
   "id": "5fb7878c-2f6f-4a86-8ef9-559d788a8b54",
   "metadata": {},
   "outputs": [
    {
     "data": {
      "text/plain": [
       "23"
      ]
     },
     "execution_count": 48,
     "metadata": {},
     "output_type": "execute_result"
    }
   ],
   "source": [
    "months = orders_df['order_purchase_timestamp'].dt.to_period('M').nunique()\n",
    "months"
   ]
  },
  {
   "cell_type": "markdown",
   "id": "574571ae-f675-4426-84b3-477b5c2c2a37",
   "metadata": {},
   "source": [
    "### 3.2. How much is Magist's monthly and yearly revenue? Are there any pattern on Magist's sale in this period of time? \n"
   ]
  },
  {
   "cell_type": "code",
   "execution_count": 50,
   "id": "fe9264e8-ad60-4844-b407-4dea64f4ab07",
   "metadata": {},
   "outputs": [
    {
     "data": {
      "text/plain": [
       "96461"
      ]
     },
     "execution_count": 50,
     "metadata": {},
     "output_type": "execute_result"
    }
   ],
   "source": [
    "orders_df['order_id'].nunique()"
   ]
  },
  {
   "cell_type": "code",
   "execution_count": 51,
   "id": "24314dae-448c-4c53-9a09-298f04ddbbe4",
   "metadata": {},
   "outputs": [
    {
     "data": {
      "text/plain": [
       "98666"
      ]
     },
     "execution_count": 51,
     "metadata": {},
     "output_type": "execute_result"
    }
   ],
   "source": [
    "order_items_df['order_id'].nunique()"
   ]
  },
  {
   "cell_type": "code",
   "execution_count": 52,
   "id": "b731ccce-6444-4188-b793-6813a5ed27bd",
   "metadata": {},
   "outputs": [
    {
     "data": {
      "text/plain": [
       "Index(['order_id', 'order_item_id', 'product_id', 'seller_id',\n",
       "       'shipping_limit_date', 'price', 'freight_value'],\n",
       "      dtype='object')"
      ]
     },
     "execution_count": 52,
     "metadata": {},
     "output_type": "execute_result"
    }
   ],
   "source": [
    "order_items.columns"
   ]
  },
  {
   "cell_type": "code",
   "execution_count": 63,
   "id": "3dcf133d-b9e9-48ca-8c11-bd0a61c2b61f",
   "metadata": {},
   "outputs": [],
   "source": [
    "order_items_grouped = order_items_df.groupby(['order_id']).agg({\n",
    "    'product_id': 'count',\n",
    "    'price': 'sum',\n",
    "    'freight_value': 'sum'\n",
    "}).rename(columns={'product_id': 'product_count'})"
   ]
  },
  {
   "cell_type": "code",
   "execution_count": 64,
   "id": "1f109e65-c346-49f8-82ce-6b24fcc818de",
   "metadata": {},
   "outputs": [
    {
     "data": {
      "text/html": [
       "<div>\n",
       "<style scoped>\n",
       "    .dataframe tbody tr th:only-of-type {\n",
       "        vertical-align: middle;\n",
       "    }\n",
       "\n",
       "    .dataframe tbody tr th {\n",
       "        vertical-align: top;\n",
       "    }\n",
       "\n",
       "    .dataframe thead th {\n",
       "        text-align: right;\n",
       "    }\n",
       "</style>\n",
       "<table border=\"1\" class=\"dataframe\">\n",
       "  <thead>\n",
       "    <tr style=\"text-align: right;\">\n",
       "      <th></th>\n",
       "      <th>product_count</th>\n",
       "      <th>price</th>\n",
       "      <th>freight_value</th>\n",
       "    </tr>\n",
       "    <tr>\n",
       "      <th>order_id</th>\n",
       "      <th></th>\n",
       "      <th></th>\n",
       "      <th></th>\n",
       "    </tr>\n",
       "  </thead>\n",
       "  <tbody>\n",
       "    <tr>\n",
       "      <th>852d591ac66808ba170d243164600420</th>\n",
       "      <td>1</td>\n",
       "      <td>75.0</td>\n",
       "      <td>12.97</td>\n",
       "    </tr>\n",
       "    <tr>\n",
       "      <th>a2f7b7dd8e50a59d16010e3d5a52b2cd</th>\n",
       "      <td>1</td>\n",
       "      <td>51.9</td>\n",
       "      <td>16.12</td>\n",
       "    </tr>\n",
       "    <tr>\n",
       "      <th>066783a7a5bfa25f21a22e17c7ec9137</th>\n",
       "      <td>1</td>\n",
       "      <td>49.0</td>\n",
       "      <td>16.05</td>\n",
       "    </tr>\n",
       "    <tr>\n",
       "      <th>b009b4a885293bec82f26aec9664814e</th>\n",
       "      <td>1</td>\n",
       "      <td>254.9</td>\n",
       "      <td>19.86</td>\n",
       "    </tr>\n",
       "  </tbody>\n",
       "</table>\n",
       "</div>"
      ],
      "text/plain": [
       "                                  product_count  price  freight_value\n",
       "order_id                                                             \n",
       "852d591ac66808ba170d243164600420              1   75.0          12.97\n",
       "a2f7b7dd8e50a59d16010e3d5a52b2cd              1   51.9          16.12\n",
       "066783a7a5bfa25f21a22e17c7ec9137              1   49.0          16.05\n",
       "b009b4a885293bec82f26aec9664814e              1  254.9          19.86"
      ]
     },
     "execution_count": 64,
     "metadata": {},
     "output_type": "execute_result"
    }
   ],
   "source": [
    "order_items_grouped.sample(4)"
   ]
  },
  {
   "cell_type": "code",
   "execution_count": 60,
   "id": "1caa4b87-3435-43e2-865d-dc1ad708baa3",
   "metadata": {},
   "outputs": [
    {
     "data": {
      "text/plain": [
       "(98666, 3)"
      ]
     },
     "execution_count": 60,
     "metadata": {},
     "output_type": "execute_result"
    }
   ],
   "source": [
    "order_items_grouped_2.shape"
   ]
  },
  {
   "cell_type": "code",
   "execution_count": 67,
   "id": "cc232fc5-f814-4431-b48e-6a303f382b1a",
   "metadata": {
    "collapsed": true,
    "jupyter": {
     "outputs_hidden": true
    }
   },
   "outputs": [
    {
     "data": {
      "text/html": [
       "<div>\n",
       "<style scoped>\n",
       "    .dataframe tbody tr th:only-of-type {\n",
       "        vertical-align: middle;\n",
       "    }\n",
       "\n",
       "    .dataframe tbody tr th {\n",
       "        vertical-align: top;\n",
       "    }\n",
       "\n",
       "    .dataframe thead th {\n",
       "        text-align: right;\n",
       "    }\n",
       "</style>\n",
       "<table border=\"1\" class=\"dataframe\">\n",
       "  <thead>\n",
       "    <tr style=\"text-align: right;\">\n",
       "      <th></th>\n",
       "      <th>order_id</th>\n",
       "      <th>customer_id</th>\n",
       "      <th>order_status</th>\n",
       "      <th>order_purchase_timestamp</th>\n",
       "      <th>order_approved_at</th>\n",
       "      <th>order_delivered_carrier_date</th>\n",
       "      <th>order_delivered_customer_date</th>\n",
       "      <th>order_estimated_delivery_date</th>\n",
       "      <th>product_count</th>\n",
       "      <th>price</th>\n",
       "      <th>freight_value</th>\n",
       "    </tr>\n",
       "  </thead>\n",
       "  <tbody>\n",
       "    <tr>\n",
       "      <th>1195</th>\n",
       "      <td>03347815dd6e37a668b3954401838318</td>\n",
       "      <td>a3a4dcea8bf35b152eb89c42e403f258</td>\n",
       "      <td>delivered</td>\n",
       "      <td>2018-02-27 20:58:23</td>\n",
       "      <td>2018-02-27 21:09:37</td>\n",
       "      <td>2018-03-02 16:38:50</td>\n",
       "      <td>2018-03-22 00:12:21</td>\n",
       "      <td>2018-03-26 02:00:00</td>\n",
       "      <td>1</td>\n",
       "      <td>260.0</td>\n",
       "      <td>35.18</td>\n",
       "    </tr>\n",
       "    <tr>\n",
       "      <th>13051</th>\n",
       "      <td>22a70dec3f33737fa17ad9ae098b37f8</td>\n",
       "      <td>d597b312cf0c17b32455637f9e257341</td>\n",
       "      <td>delivered</td>\n",
       "      <td>2017-05-17 12:53:24</td>\n",
       "      <td>2017-05-17 13:02:41</td>\n",
       "      <td>2017-05-23 13:39:34</td>\n",
       "      <td>2017-05-24 13:09:40</td>\n",
       "      <td>2017-05-30 02:00:00</td>\n",
       "      <td>1</td>\n",
       "      <td>139.9</td>\n",
       "      <td>9.79</td>\n",
       "    </tr>\n",
       "    <tr>\n",
       "      <th>73984</th>\n",
       "      <td>c45067032fd84f4cf408730ff5205568</td>\n",
       "      <td>0fea3afc6a1510c9db75d349d28af974</td>\n",
       "      <td>delivered</td>\n",
       "      <td>2018-05-16 14:09:45</td>\n",
       "      <td>2018-05-16 14:39:20</td>\n",
       "      <td>2018-05-17 14:41:00</td>\n",
       "      <td>2018-05-22 19:28:28</td>\n",
       "      <td>2018-06-12 02:00:00</td>\n",
       "      <td>1</td>\n",
       "      <td>179.8</td>\n",
       "      <td>19.14</td>\n",
       "    </tr>\n",
       "    <tr>\n",
       "      <th>86701</th>\n",
       "      <td>e5ac2ec6985bd8401bc382345e4266b3</td>\n",
       "      <td>187a209cec5b138187e8e4bfa8fd8825</td>\n",
       "      <td>delivered</td>\n",
       "      <td>2018-03-28 20:59:41</td>\n",
       "      <td>2018-03-29 20:55:18</td>\n",
       "      <td>2018-04-05 20:31:09</td>\n",
       "      <td>2018-04-07 03:08:46</td>\n",
       "      <td>2018-04-12 02:00:00</td>\n",
       "      <td>1</td>\n",
       "      <td>39.9</td>\n",
       "      <td>11.15</td>\n",
       "    </tr>\n",
       "  </tbody>\n",
       "</table>\n",
       "</div>"
      ],
      "text/plain": [
       "                               order_id                       customer_id  \\\n",
       "1195   03347815dd6e37a668b3954401838318  a3a4dcea8bf35b152eb89c42e403f258   \n",
       "13051  22a70dec3f33737fa17ad9ae098b37f8  d597b312cf0c17b32455637f9e257341   \n",
       "73984  c45067032fd84f4cf408730ff5205568  0fea3afc6a1510c9db75d349d28af974   \n",
       "86701  e5ac2ec6985bd8401bc382345e4266b3  187a209cec5b138187e8e4bfa8fd8825   \n",
       "\n",
       "      order_status order_purchase_timestamp   order_approved_at  \\\n",
       "1195     delivered      2018-02-27 20:58:23 2018-02-27 21:09:37   \n",
       "13051    delivered      2017-05-17 12:53:24 2017-05-17 13:02:41   \n",
       "73984    delivered      2018-05-16 14:09:45 2018-05-16 14:39:20   \n",
       "86701    delivered      2018-03-28 20:59:41 2018-03-29 20:55:18   \n",
       "\n",
       "      order_delivered_carrier_date order_delivered_customer_date  \\\n",
       "1195           2018-03-02 16:38:50           2018-03-22 00:12:21   \n",
       "13051          2017-05-23 13:39:34           2017-05-24 13:09:40   \n",
       "73984          2018-05-17 14:41:00           2018-05-22 19:28:28   \n",
       "86701          2018-04-05 20:31:09           2018-04-07 03:08:46   \n",
       "\n",
       "      order_estimated_delivery_date  product_count  price  freight_value  \n",
       "1195            2018-03-26 02:00:00              1  260.0          35.18  \n",
       "13051           2017-05-30 02:00:00              1  139.9           9.79  \n",
       "73984           2018-06-12 02:00:00              1  179.8          19.14  \n",
       "86701           2018-04-12 02:00:00              1   39.9          11.15  "
      ]
     },
     "execution_count": 67,
     "metadata": {},
     "output_type": "execute_result"
    }
   ],
   "source": [
    "# merging two dataframe: orders and order_items_grouped\n",
    "grouped_orders_df = pd.merge(orders_df, order_items_grouped, on='order_id', how='inner')\n",
    "grouped_orders_df.sample(4)"
   ]
  },
  {
   "cell_type": "code",
   "execution_count": 68,
   "id": "a3589854-d6b2-40d9-a20b-baabf8553afb",
   "metadata": {},
   "outputs": [],
   "source": [
    "# creat the month and year columns in the dataframe to calculate the revenue monthly and yearly and also ploting a chart\n",
    "grouped_orders_df['month'] = grouped_orders_df['order_purchase_timestamp'].dt.month\n",
    "grouped_orders_df['year'] = grouped_orders_df['order_purchase_timestamp'].dt.year"
   ]
  },
  {
   "cell_type": "code",
   "execution_count": 69,
   "id": "fa7a49c1-233c-4baa-9a22-7391191a4659",
   "metadata": {
    "collapsed": true,
    "jupyter": {
     "outputs_hidden": true
    }
   },
   "outputs": [
    {
     "data": {
      "text/html": [
       "<div>\n",
       "<style scoped>\n",
       "    .dataframe tbody tr th:only-of-type {\n",
       "        vertical-align: middle;\n",
       "    }\n",
       "\n",
       "    .dataframe tbody tr th {\n",
       "        vertical-align: top;\n",
       "    }\n",
       "\n",
       "    .dataframe thead th {\n",
       "        text-align: right;\n",
       "    }\n",
       "</style>\n",
       "<table border=\"1\" class=\"dataframe\">\n",
       "  <thead>\n",
       "    <tr style=\"text-align: right;\">\n",
       "      <th></th>\n",
       "      <th>order_id</th>\n",
       "      <th>customer_id</th>\n",
       "      <th>order_status</th>\n",
       "      <th>order_purchase_timestamp</th>\n",
       "      <th>order_approved_at</th>\n",
       "      <th>order_delivered_carrier_date</th>\n",
       "      <th>order_delivered_customer_date</th>\n",
       "      <th>order_estimated_delivery_date</th>\n",
       "      <th>product_count</th>\n",
       "      <th>price</th>\n",
       "      <th>freight_value</th>\n",
       "      <th>month</th>\n",
       "      <th>year</th>\n",
       "    </tr>\n",
       "  </thead>\n",
       "  <tbody>\n",
       "    <tr>\n",
       "      <th>43884</th>\n",
       "      <td>748c52d1621e759a512c6175e674dfbe</td>\n",
       "      <td>1ee92569128ef615966b47ef4ba6c2f0</td>\n",
       "      <td>delivered</td>\n",
       "      <td>2017-10-02 23:12:48</td>\n",
       "      <td>2017-10-03 23:24:24</td>\n",
       "      <td>2017-10-05 21:15:05</td>\n",
       "      <td>2017-10-14 04:41:24</td>\n",
       "      <td>2017-10-18 02:00:00</td>\n",
       "      <td>1</td>\n",
       "      <td>362.99</td>\n",
       "      <td>11.36</td>\n",
       "      <td>10</td>\n",
       "      <td>2017</td>\n",
       "    </tr>\n",
       "    <tr>\n",
       "      <th>19160</th>\n",
       "      <td>331ec8fd37b237cfe255176db487a755</td>\n",
       "      <td>3a4f2ca546552859fbee998bc87240b4</td>\n",
       "      <td>delivered</td>\n",
       "      <td>2017-10-31 19:57:56</td>\n",
       "      <td>2017-10-31 20:34:38</td>\n",
       "      <td>2017-11-01 19:42:49</td>\n",
       "      <td>2017-11-06 15:07:38</td>\n",
       "      <td>2017-11-10 01:00:00</td>\n",
       "      <td>1</td>\n",
       "      <td>16.90</td>\n",
       "      <td>8.27</td>\n",
       "      <td>10</td>\n",
       "      <td>2017</td>\n",
       "    </tr>\n",
       "    <tr>\n",
       "      <th>80349</th>\n",
       "      <td>d4c1356b86dcc8a86c603174ba27d9bc</td>\n",
       "      <td>5bb44f6a01f1362e3eb39c521d1d1b08</td>\n",
       "      <td>delivered</td>\n",
       "      <td>2018-01-04 23:16:30</td>\n",
       "      <td>2018-01-04 23:27:42</td>\n",
       "      <td>2018-01-10 12:13:54</td>\n",
       "      <td>2018-01-17 23:59:07</td>\n",
       "      <td>2018-01-30 01:00:00</td>\n",
       "      <td>1</td>\n",
       "      <td>69.90</td>\n",
       "      <td>16.12</td>\n",
       "      <td>1</td>\n",
       "      <td>2018</td>\n",
       "    </tr>\n",
       "    <tr>\n",
       "      <th>84806</th>\n",
       "      <td>e0bacd42e5f8077488c0a9f4dcfe66da</td>\n",
       "      <td>ad9e8236c07bc00edfcd2f7805ceb771</td>\n",
       "      <td>delivered</td>\n",
       "      <td>2017-04-21 02:11:35</td>\n",
       "      <td>2017-04-21 03:05:19</td>\n",
       "      <td>2017-05-19 10:46:40</td>\n",
       "      <td>2017-06-08 15:22:16</td>\n",
       "      <td>2017-06-02 02:00:00</td>\n",
       "      <td>2</td>\n",
       "      <td>899.80</td>\n",
       "      <td>249.08</td>\n",
       "      <td>4</td>\n",
       "      <td>2017</td>\n",
       "    </tr>\n",
       "  </tbody>\n",
       "</table>\n",
       "</div>"
      ],
      "text/plain": [
       "                               order_id                       customer_id  \\\n",
       "43884  748c52d1621e759a512c6175e674dfbe  1ee92569128ef615966b47ef4ba6c2f0   \n",
       "19160  331ec8fd37b237cfe255176db487a755  3a4f2ca546552859fbee998bc87240b4   \n",
       "80349  d4c1356b86dcc8a86c603174ba27d9bc  5bb44f6a01f1362e3eb39c521d1d1b08   \n",
       "84806  e0bacd42e5f8077488c0a9f4dcfe66da  ad9e8236c07bc00edfcd2f7805ceb771   \n",
       "\n",
       "      order_status order_purchase_timestamp   order_approved_at  \\\n",
       "43884    delivered      2017-10-02 23:12:48 2017-10-03 23:24:24   \n",
       "19160    delivered      2017-10-31 19:57:56 2017-10-31 20:34:38   \n",
       "80349    delivered      2018-01-04 23:16:30 2018-01-04 23:27:42   \n",
       "84806    delivered      2017-04-21 02:11:35 2017-04-21 03:05:19   \n",
       "\n",
       "      order_delivered_carrier_date order_delivered_customer_date  \\\n",
       "43884          2017-10-05 21:15:05           2017-10-14 04:41:24   \n",
       "19160          2017-11-01 19:42:49           2017-11-06 15:07:38   \n",
       "80349          2018-01-10 12:13:54           2018-01-17 23:59:07   \n",
       "84806          2017-05-19 10:46:40           2017-06-08 15:22:16   \n",
       "\n",
       "      order_estimated_delivery_date  product_count   price  freight_value  \\\n",
       "43884           2017-10-18 02:00:00              1  362.99          11.36   \n",
       "19160           2017-11-10 01:00:00              1   16.90           8.27   \n",
       "80349           2018-01-30 01:00:00              1   69.90          16.12   \n",
       "84806           2017-06-02 02:00:00              2  899.80         249.08   \n",
       "\n",
       "       month  year  \n",
       "43884     10  2017  \n",
       "19160     10  2017  \n",
       "80349      1  2018  \n",
       "84806      4  2017  "
      ]
     },
     "execution_count": 69,
     "metadata": {},
     "output_type": "execute_result"
    }
   ],
   "source": [
    "grouped_orders_df.sample(4)"
   ]
  },
  {
   "cell_type": "code",
   "execution_count": 71,
   "id": "0a13c90f-3ec3-41fb-bd2e-09874f843603",
   "metadata": {},
   "outputs": [],
   "source": [
    "monthly_sale = grouped_orders_df.groupby(['year','month'])['product_count'].sum().unstack()"
   ]
  },
  {
   "cell_type": "code",
   "execution_count": 72,
   "id": "c9e1c9ee-8427-4e4a-a475-b1db95516265",
   "metadata": {},
   "outputs": [
    {
     "data": {
      "text/html": [
       "<div>\n",
       "<style scoped>\n",
       "    .dataframe tbody tr th:only-of-type {\n",
       "        vertical-align: middle;\n",
       "    }\n",
       "\n",
       "    .dataframe tbody tr th {\n",
       "        vertical-align: top;\n",
       "    }\n",
       "\n",
       "    .dataframe thead th {\n",
       "        text-align: right;\n",
       "    }\n",
       "</style>\n",
       "<table border=\"1\" class=\"dataframe\">\n",
       "  <thead>\n",
       "    <tr style=\"text-align: right;\">\n",
       "      <th>month</th>\n",
       "      <th>1</th>\n",
       "      <th>2</th>\n",
       "      <th>3</th>\n",
       "      <th>4</th>\n",
       "      <th>5</th>\n",
       "      <th>6</th>\n",
       "      <th>7</th>\n",
       "      <th>8</th>\n",
       "      <th>9</th>\n",
       "      <th>10</th>\n",
       "      <th>11</th>\n",
       "      <th>12</th>\n",
       "    </tr>\n",
       "    <tr>\n",
       "      <th>year</th>\n",
       "      <th></th>\n",
       "      <th></th>\n",
       "      <th></th>\n",
       "      <th></th>\n",
       "      <th></th>\n",
       "      <th></th>\n",
       "      <th></th>\n",
       "      <th></th>\n",
       "      <th></th>\n",
       "      <th></th>\n",
       "      <th></th>\n",
       "      <th></th>\n",
       "    </tr>\n",
       "  </thead>\n",
       "  <tbody>\n",
       "    <tr>\n",
       "      <th>2016</th>\n",
       "      <td>NaN</td>\n",
       "      <td>NaN</td>\n",
       "      <td>NaN</td>\n",
       "      <td>NaN</td>\n",
       "      <td>NaN</td>\n",
       "      <td>NaN</td>\n",
       "      <td>NaN</td>\n",
       "      <td>NaN</td>\n",
       "      <td>3.0</td>\n",
       "      <td>319.0</td>\n",
       "      <td>NaN</td>\n",
       "      <td>1.0</td>\n",
       "    </tr>\n",
       "    <tr>\n",
       "      <th>2017</th>\n",
       "      <td>908.0</td>\n",
       "      <td>1846.0</td>\n",
       "      <td>2893.0</td>\n",
       "      <td>2567.0</td>\n",
       "      <td>3996.0</td>\n",
       "      <td>3502.0</td>\n",
       "      <td>4399.0</td>\n",
       "      <td>4809.0</td>\n",
       "      <td>4731.0</td>\n",
       "      <td>5221.0</td>\n",
       "      <td>8468.0</td>\n",
       "      <td>6196.0</td>\n",
       "    </tr>\n",
       "    <tr>\n",
       "      <th>2018</th>\n",
       "      <td>8019.0</td>\n",
       "      <td>7528.0</td>\n",
       "      <td>8019.0</td>\n",
       "      <td>7811.0</td>\n",
       "      <td>7815.0</td>\n",
       "      <td>7014.0</td>\n",
       "      <td>6929.0</td>\n",
       "      <td>7186.0</td>\n",
       "      <td>NaN</td>\n",
       "      <td>NaN</td>\n",
       "      <td>NaN</td>\n",
       "      <td>NaN</td>\n",
       "    </tr>\n",
       "  </tbody>\n",
       "</table>\n",
       "</div>"
      ],
      "text/plain": [
       "month      1       2       3       4       5       6       7       8       9   \\\n",
       "year                                                                            \n",
       "2016      NaN     NaN     NaN     NaN     NaN     NaN     NaN     NaN     3.0   \n",
       "2017    908.0  1846.0  2893.0  2567.0  3996.0  3502.0  4399.0  4809.0  4731.0   \n",
       "2018   8019.0  7528.0  8019.0  7811.0  7815.0  7014.0  6929.0  7186.0     NaN   \n",
       "\n",
       "month      10      11      12  \n",
       "year                           \n",
       "2016    319.0     NaN     1.0  \n",
       "2017   5221.0  8468.0  6196.0  \n",
       "2018      NaN     NaN     NaN  "
      ]
     },
     "execution_count": 72,
     "metadata": {},
     "output_type": "execute_result"
    }
   ],
   "source": [
    "monthly_sale"
   ]
  },
  {
   "cell_type": "code",
   "execution_count": 252,
   "id": "ba540799-0957-43fd-ac1f-6ab5b86a97d6",
   "metadata": {},
   "outputs": [
    {
     "data": {
      "image/png": "[encoded data removed]",
      "text/plain": [
       "<Figure size 600x400 with 1 Axes>"
      ]
     },
     "metadata": {},
     "output_type": "display_data"
    }
   ],
   "source": [
    "# Monthly Sold Products by Magist\n",
    "\n",
    "monthly_sale.T.plot(kind='bar', figsize=(6,4))     # use T.plot to have months as columns\n",
    "plt.title('Monthly Products Sold')\n",
    "plt.xlabel('Month')\n",
    "plt.ylabel('Total Products Sold')\n",
    "plt.legend(title='Year');"
   ]
  },
  {
   "cell_type": "code",
   "execution_count": 84,
   "id": "31e7c8fc-b88f-479e-890b-739de2d985e0",
   "metadata": {},
   "outputs": [],
   "source": [
    "monthly_sold_products = grouped_orders_df.resample(\"ME\", on=\"order_purchase_timestamp\")['product_count'].sum()\n",
    "monthly_sold_products .index = monthly_sold_products .index.strftime('%b %Y')    #  to have the date like yyyy-MM "
   ]
  },
  {
   "cell_type": "code",
   "execution_count": 98,
   "id": "dd2362dc-40ec-465a-b97a-9065292acbc8",
   "metadata": {},
   "outputs": [
    {
     "data": {
      "image/png": "[encoded data removed]",
      "text/plain": [
       "<Figure size 1000x400 with 1 Axes>"
      ]
     },
     "metadata": {},
     "output_type": "display_data"
    }
   ],
   "source": [
    "# number of sold products overtime\n",
    "monthly_sale_total.plot( figsize=(10,4), title='Monthly sold products')\n",
    "plt.ylabel('Number of products')\n",
    "plt.xlabel('Year-Month')\n",
    "plt.xticks(rotation=45)\n",
    "plt.minorticks_on()\n",
    "plt.grid(which='minor', alpha=0.4)\n",
    "plt.show()"
   ]
  },
  {
   "cell_type": "code",
   "execution_count": 88,
   "id": "ea60e81d-6d24-4ce1-8f96-241c03fb9557",
   "metadata": {},
   "outputs": [
    {
     "data": {
      "text/html": [
       "<div>\n",
       "<style scoped>\n",
       "    .dataframe tbody tr th:only-of-type {\n",
       "        vertical-align: middle;\n",
       "    }\n",
       "\n",
       "    .dataframe tbody tr th {\n",
       "        vertical-align: top;\n",
       "    }\n",
       "\n",
       "    .dataframe thead th {\n",
       "        text-align: right;\n",
       "    }\n",
       "</style>\n",
       "<table border=\"1\" class=\"dataframe\">\n",
       "  <thead>\n",
       "    <tr style=\"text-align: right;\">\n",
       "      <th>month</th>\n",
       "      <th>1</th>\n",
       "      <th>2</th>\n",
       "      <th>3</th>\n",
       "      <th>4</th>\n",
       "      <th>5</th>\n",
       "      <th>6</th>\n",
       "      <th>7</th>\n",
       "      <th>8</th>\n",
       "      <th>9</th>\n",
       "      <th>10</th>\n",
       "      <th>11</th>\n",
       "      <th>12</th>\n",
       "    </tr>\n",
       "    <tr>\n",
       "      <th>year</th>\n",
       "      <th></th>\n",
       "      <th></th>\n",
       "      <th></th>\n",
       "      <th></th>\n",
       "      <th></th>\n",
       "      <th></th>\n",
       "      <th></th>\n",
       "      <th></th>\n",
       "      <th></th>\n",
       "      <th></th>\n",
       "      <th></th>\n",
       "      <th></th>\n",
       "    </tr>\n",
       "  </thead>\n",
       "  <tbody>\n",
       "    <tr>\n",
       "      <th>2016</th>\n",
       "      <td>NaN</td>\n",
       "      <td>NaN</td>\n",
       "      <td>NaN</td>\n",
       "      <td>NaN</td>\n",
       "      <td>NaN</td>\n",
       "      <td>NaN</td>\n",
       "      <td>NaN</td>\n",
       "      <td>NaN</td>\n",
       "      <td>134.97</td>\n",
       "      <td>40941.30</td>\n",
       "      <td>NaN</td>\n",
       "      <td>10.90</td>\n",
       "    </tr>\n",
       "    <tr>\n",
       "      <th>2017</th>\n",
       "      <td>111208.50</td>\n",
       "      <td>233028.03</td>\n",
       "      <td>358531.17</td>\n",
       "      <td>340729.56</td>\n",
       "      <td>487942.15</td>\n",
       "      <td>423704.07</td>\n",
       "      <td>480457.86</td>\n",
       "      <td>554823.87</td>\n",
       "      <td>607588.59</td>\n",
       "      <td>648610.35</td>\n",
       "      <td>986975.52</td>\n",
       "      <td>727018.61</td>\n",
       "    </tr>\n",
       "    <tr>\n",
       "      <th>2018</th>\n",
       "      <td>922819.76</td>\n",
       "      <td>827631.01</td>\n",
       "      <td>953501.42</td>\n",
       "      <td>972421.13</td>\n",
       "      <td>972230.45</td>\n",
       "      <td>860805.99</td>\n",
       "      <td>863838.08</td>\n",
       "      <td>844092.39</td>\n",
       "      <td>NaN</td>\n",
       "      <td>NaN</td>\n",
       "      <td>NaN</td>\n",
       "      <td>NaN</td>\n",
       "    </tr>\n",
       "  </tbody>\n",
       "</table>\n",
       "</div>"
      ],
      "text/plain": [
       "month         1          2          3          4          5          6   \\\n",
       "year                                                                      \n",
       "2016         NaN        NaN        NaN        NaN        NaN        NaN   \n",
       "2017   111208.50  233028.03  358531.17  340729.56  487942.15  423704.07   \n",
       "2018   922819.76  827631.01  953501.42  972421.13  972230.45  860805.99   \n",
       "\n",
       "month         7          8          9          10         11         12  \n",
       "year                                                                     \n",
       "2016         NaN        NaN     134.97   40941.30        NaN      10.90  \n",
       "2017   480457.86  554823.87  607588.59  648610.35  986975.52  727018.61  \n",
       "2018   863838.08  844092.39        NaN        NaN        NaN        NaN  "
      ]
     },
     "execution_count": 88,
     "metadata": {},
     "output_type": "execute_result"
    }
   ],
   "source": [
    "monthly_revenue = grouped_orders_df.groupby(['year','month'])['price'].sum().unstack()\n",
    "monthly_revenue "
   ]
  },
  {
   "cell_type": "code",
   "execution_count": 89,
   "id": "abdd424d-4bd7-4379-8dfc-c1124ea5a365",
   "metadata": {},
   "outputs": [],
   "source": [
    "monthly_Revenue = grouped_orders_df.resample(\"ME\", on=\"order_purchase_timestamp\")['price'].sum()\n",
    "monthly_Revenue.index = monthly_Revenue.index.strftime('%b %Y')    #  to have the date like yyyy-MM "
   ]
  },
  {
   "cell_type": "code",
   "execution_count": 97,
   "id": "d4a11914-a86a-41a8-b08d-f888205c1ce9",
   "metadata": {},
   "outputs": [
    {
     "data": {
      "image/png": "[encoded data removed]",
      "text/plain": [
       "<Figure size 1000x400 with 1 Axes>"
      ]
     },
     "metadata": {},
     "output_type": "display_data"
    }
   ],
   "source": [
    "monthly_Revenue.plot( figsize=(10,4), title='Monthly Revenue')\n",
    "plt.ylabel('Revenue')\n",
    "plt.xlabel('Year-Month')\n",
    "plt.xticks(rotation=45)\n",
    "plt.minorticks_on()\n",
    "plt.grid(which='minor', alpha=0.4)\n",
    "plt.show()"
   ]
  },
  {
   "cell_type": "code",
   "execution_count": null,
   "id": "da5c2d8a-a37a-4d44-b5c4-917df048ec28",
   "metadata": {},
   "outputs": [],
   "source": [
    "# Average monthly revenue"
   ]
  },
  {
   "cell_type": "code",
   "execution_count": 102,
   "id": "b910fd8c-df82-4da8-8ffd-dc8526e89ea4",
   "metadata": {},
   "outputs": [
    {
     "data": {
      "text/plain": [
       "550793.57"
      ]
     },
     "execution_count": 102,
     "metadata": {},
     "output_type": "execute_result"
    }
   ],
   "source": [
    "monthly_Revenue.mean()"
   ]
  },
  {
   "cell_type": "markdown",
   "id": "186e0cf9-e447-478c-a243-269d501b0f12",
   "metadata": {},
   "source": [
    "---"
   ]
  },
  {
   "cell_type": "markdown",
   "id": "df90e4ec-ef17-4727-af11-6a10d70debb3",
   "metadata": {},
   "source": [
    "### 3.3. How many products are there on the products table?\n",
    "### Which are the categories with the most products? \n",
    "### What’s the price for the most expensive and cheapest products? \n",
    "### What’s the average price of the products being sold?"
   ]
  },
  {
   "cell_type": "code",
   "execution_count": 105,
   "id": "c55fcb2d-d627-4b6b-af14-de705f079723",
   "metadata": {},
   "outputs": [
    {
     "data": {
      "text/plain": [
       "32951"
      ]
     },
     "execution_count": 105,
     "metadata": {},
     "output_type": "execute_result"
    }
   ],
   "source": [
    "# The number of products on the products table\n",
    "translated_products_df['product_id'].nunique()"
   ]
  },
  {
   "cell_type": "code",
   "execution_count": 106,
   "id": "a0fd9706-4c9d-49f1-9923-7a308c85d820",
   "metadata": {},
   "outputs": [
    {
     "data": {
      "text/plain": [
       "product_category_name\n",
       "bed_bath_table           3029\n",
       "sports_leisure           2867\n",
       "furniture_decor          2657\n",
       "health_beauty            2444\n",
       "housewares               2335\n",
       "auto                     1900\n",
       "computers_accessories    1639\n",
       "toys                     1411\n",
       "watches_gifts            1329\n",
       "telephony                1134\n",
       "Name: product_id, dtype: int64"
      ]
     },
     "execution_count": 106,
     "metadata": {},
     "output_type": "execute_result"
    }
   ],
   "source": [
    "# Categories with the most products\n",
    "ten_top_categories = translated_products_df.groupby('product_category_name')['product_id'].count().nlargest(10)\n",
    "ten_top_categories"
   ]
  },
  {
   "cell_type": "code",
   "execution_count": 250,
   "id": "060c3aea-0002-4de6-bd7a-bbf82fc0dcce",
   "metadata": {},
   "outputs": [
    {
     "name": "stderr",
     "output_type": "stream",
     "text": [
      "C:\\Users\\Fariba\\AppData\\Local\\Temp\\ipykernel_22472\\2077137587.py:3: FutureWarning: \n",
      "\n",
      "Passing `palette` without assigning `hue` is deprecated and will be removed in v0.14.0. Assign the `y` variable to `hue` and set `legend=False` for the same effect.\n",
      "\n",
      "  sns.barplot(x=ten_top_categories.values, y=ten_top_categories.index, orient='h', palette='viridis')\n"
     ]
    },
    {
     "data": {
      "text/plain": [
       "''"
      ]
     },
     "execution_count": 250,
     "metadata": {},
     "output_type": "execute_result"
    },
    {
     "data": {
      "image/png": "[encoded data removed]",
      "text/plain": [
       "<Figure size 600x400 with 1 Axes>"
      ]
     },
     "metadata": {},
     "output_type": "display_data"
    }
   ],
   "source": [
    "# Barchart for ten top categories in the whole period of time (23 months)\n",
    "plt.figure(figsize=(6,4))\n",
    "sns.barplot(x=ten_top_categories.values, y=ten_top_categories.index, orient='h', palette='viridis')\n",
    "plt.xlabel('Number of products sold')\n",
    "plt.ylabel('Category')\n",
    "plt.title('10 Best Seller Categories')\n",
    "\n",
    "# Add custom text for the tech-products\n",
    "target_categories = 'computers_accessories', 'telephony', 'watches_gifts'\n",
    "for target_category in target_categories:\n",
    "    target_value = ten_top_categories[target_category]\n",
    "    target_index = ten_top_categories.index.get_loc(target_category)\n",
    "    \n",
    "    # Place the text slightly to the right of the bar\n",
    "    plt.text(x=target_value + 50, y=target_index, s='Tech', va='center', color='darkblue')\n",
    ";"
   ]
  },
  {
   "cell_type": "code",
   "execution_count": 104,
   "id": "d8f1be88-0d15-4afb-827d-a20cf379e3a1",
   "metadata": {},
   "outputs": [
    {
     "data": {
      "text/html": [
       "<div>\n",
       "<style scoped>\n",
       "    .dataframe tbody tr th:only-of-type {\n",
       "        vertical-align: middle;\n",
       "    }\n",
       "\n",
       "    .dataframe tbody tr th {\n",
       "        vertical-align: top;\n",
       "    }\n",
       "\n",
       "    .dataframe thead th {\n",
       "        text-align: right;\n",
       "    }\n",
       "</style>\n",
       "<table border=\"1\" class=\"dataframe\">\n",
       "  <thead>\n",
       "    <tr style=\"text-align: right;\">\n",
       "      <th></th>\n",
       "      <th>product_id</th>\n",
       "      <th>product_name_length</th>\n",
       "      <th>product_description_length</th>\n",
       "      <th>product_photos_qty</th>\n",
       "      <th>product_weight_g</th>\n",
       "      <th>product_length_cm</th>\n",
       "      <th>product_height_cm</th>\n",
       "      <th>product_width_cm</th>\n",
       "      <th>product_category_name</th>\n",
       "    </tr>\n",
       "  </thead>\n",
       "  <tbody>\n",
       "    <tr>\n",
       "      <th>0</th>\n",
       "      <td>00066f42aeeb9f3007548bb9d3f33c38</td>\n",
       "      <td>53</td>\n",
       "      <td>596</td>\n",
       "      <td>6</td>\n",
       "      <td>300</td>\n",
       "      <td>20</td>\n",
       "      <td>16</td>\n",
       "      <td>16</td>\n",
       "      <td>perfumery</td>\n",
       "    </tr>\n",
       "    <tr>\n",
       "      <th>1</th>\n",
       "      <td>00088930e925c41fd95ebfe695fd2655</td>\n",
       "      <td>56</td>\n",
       "      <td>752</td>\n",
       "      <td>4</td>\n",
       "      <td>1225</td>\n",
       "      <td>55</td>\n",
       "      <td>10</td>\n",
       "      <td>26</td>\n",
       "      <td>auto</td>\n",
       "    </tr>\n",
       "    <tr>\n",
       "      <th>2</th>\n",
       "      <td>0009406fd7479715e4bef61dd91f2462</td>\n",
       "      <td>50</td>\n",
       "      <td>266</td>\n",
       "      <td>2</td>\n",
       "      <td>300</td>\n",
       "      <td>45</td>\n",
       "      <td>15</td>\n",
       "      <td>35</td>\n",
       "      <td>bed_bath_table</td>\n",
       "    </tr>\n",
       "  </tbody>\n",
       "</table>\n",
       "</div>"
      ],
      "text/plain": [
       "                         product_id  product_name_length  \\\n",
       "0  00066f42aeeb9f3007548bb9d3f33c38                   53   \n",
       "1  00088930e925c41fd95ebfe695fd2655                   56   \n",
       "2  0009406fd7479715e4bef61dd91f2462                   50   \n",
       "\n",
       "   product_description_length  product_photos_qty  product_weight_g  \\\n",
       "0                         596                   6               300   \n",
       "1                         752                   4              1225   \n",
       "2                         266                   2               300   \n",
       "\n",
       "   product_length_cm  product_height_cm  product_width_cm  \\\n",
       "0                 20                 16                16   \n",
       "1                 55                 10                26   \n",
       "2                 45                 15                35   \n",
       "\n",
       "  product_category_name  \n",
       "0             perfumery  \n",
       "1                  auto  \n",
       "2        bed_bath_table  "
      ]
     },
     "execution_count": 104,
     "metadata": {},
     "output_type": "execute_result"
    }
   ],
   "source": [
    "translated_products_df.head(3)"
   ]
  },
  {
   "cell_type": "code",
   "execution_count": 112,
   "id": "75281538-439e-425a-9f8b-c526317dc1c5",
   "metadata": {},
   "outputs": [
    {
     "data": {
      "text/html": [
       "<div>\n",
       "<style scoped>\n",
       "    .dataframe tbody tr th:only-of-type {\n",
       "        vertical-align: middle;\n",
       "    }\n",
       "\n",
       "    .dataframe tbody tr th {\n",
       "        vertical-align: top;\n",
       "    }\n",
       "\n",
       "    .dataframe thead th {\n",
       "        text-align: right;\n",
       "    }\n",
       "</style>\n",
       "<table border=\"1\" class=\"dataframe\">\n",
       "  <thead>\n",
       "    <tr style=\"text-align: right;\">\n",
       "      <th></th>\n",
       "      <th>product_id</th>\n",
       "      <th>price</th>\n",
       "    </tr>\n",
       "  </thead>\n",
       "  <tbody>\n",
       "    <tr>\n",
       "      <th>3556</th>\n",
       "      <td>489ae2aa008f021502940f251d4cce7f</td>\n",
       "      <td>6735.00</td>\n",
       "    </tr>\n",
       "    <tr>\n",
       "      <th>112233</th>\n",
       "      <td>69c590f7ffc7bf8db97190b6cb6ed62e</td>\n",
       "      <td>6729.00</td>\n",
       "    </tr>\n",
       "    <tr>\n",
       "      <th>107841</th>\n",
       "      <td>1bdf5e6731585cf01aa8169c7028d6ad</td>\n",
       "      <td>6499.00</td>\n",
       "    </tr>\n",
       "    <tr>\n",
       "      <th>74336</th>\n",
       "      <td>a6492cc69376c469ab6f61d8f44de961</td>\n",
       "      <td>4799.00</td>\n",
       "    </tr>\n",
       "    <tr>\n",
       "      <th>11249</th>\n",
       "      <td>c3ed642d592594bb648ff4a04cee2747</td>\n",
       "      <td>4690.00</td>\n",
       "    </tr>\n",
       "    <tr>\n",
       "      <th>62086</th>\n",
       "      <td>259037a6a41845e455183f89c5035f18</td>\n",
       "      <td>4590.00</td>\n",
       "    </tr>\n",
       "    <tr>\n",
       "      <th>29193</th>\n",
       "      <td>a1beef8f3992dbd4cd8726796aa69c53</td>\n",
       "      <td>4399.87</td>\n",
       "    </tr>\n",
       "    <tr>\n",
       "      <th>45843</th>\n",
       "      <td>6cdf8fc1d741c76586d8b6b15e9eef30</td>\n",
       "      <td>4099.99</td>\n",
       "    </tr>\n",
       "    <tr>\n",
       "      <th>78310</th>\n",
       "      <td>dd113cb02b2af9c8e5787e8f1f0722f6</td>\n",
       "      <td>4059.00</td>\n",
       "    </tr>\n",
       "    <tr>\n",
       "      <th>59137</th>\n",
       "      <td>6902c1962dd19d540807d0ab8fade5c6</td>\n",
       "      <td>3999.90</td>\n",
       "    </tr>\n",
       "  </tbody>\n",
       "</table>\n",
       "</div>"
      ],
      "text/plain": [
       "                              product_id    price\n",
       "3556    489ae2aa008f021502940f251d4cce7f  6735.00\n",
       "112233  69c590f7ffc7bf8db97190b6cb6ed62e  6729.00\n",
       "107841  1bdf5e6731585cf01aa8169c7028d6ad  6499.00\n",
       "74336   a6492cc69376c469ab6f61d8f44de961  4799.00\n",
       "11249   c3ed642d592594bb648ff4a04cee2747  4690.00\n",
       "62086   259037a6a41845e455183f89c5035f18  4590.00\n",
       "29193   a1beef8f3992dbd4cd8726796aa69c53  4399.87\n",
       "45843   6cdf8fc1d741c76586d8b6b15e9eef30  4099.99\n",
       "78310   dd113cb02b2af9c8e5787e8f1f0722f6  4059.00\n",
       "59137   6902c1962dd19d540807d0ab8fade5c6  3999.90"
      ]
     },
     "execution_count": 112,
     "metadata": {},
     "output_type": "execute_result"
    }
   ],
   "source": [
    "# Calculate the price for the most expensive and cheapest products\n",
    "ten_expensive_categories = order_items_df[['product_id','price']].nlargest(10, columns='price')\n",
    "ten_expensive_categories"
   ]
  },
  {
   "cell_type": "code",
   "execution_count": 115,
   "id": "c2992ac2-f4ff-4c74-9ef2-b0b4c5e9fcc1",
   "metadata": {},
   "outputs": [],
   "source": [
    "# Add the gategory name to the dataframe\n",
    "ten_expensive_categories_merged = pd.merge(ten_expensive_categories,translated_products_df, on= 'product_id', how='inner')\n",
    "ten_expensive_categories_merged = ten_expensive_categories_merged[['product_category_name','price']]"
   ]
  },
  {
   "cell_type": "code",
   "execution_count": 116,
   "id": "760b2213-b963-4457-8052-7af84095ae31",
   "metadata": {},
   "outputs": [
    {
     "data": {
      "text/html": [
       "<div>\n",
       "<style scoped>\n",
       "    .dataframe tbody tr th:only-of-type {\n",
       "        vertical-align: middle;\n",
       "    }\n",
       "\n",
       "    .dataframe tbody tr th {\n",
       "        vertical-align: top;\n",
       "    }\n",
       "\n",
       "    .dataframe thead th {\n",
       "        text-align: right;\n",
       "    }\n",
       "</style>\n",
       "<table border=\"1\" class=\"dataframe\">\n",
       "  <thead>\n",
       "    <tr style=\"text-align: right;\">\n",
       "      <th></th>\n",
       "      <th>product_category_name</th>\n",
       "      <th>price</th>\n",
       "    </tr>\n",
       "  </thead>\n",
       "  <tbody>\n",
       "    <tr>\n",
       "      <th>0</th>\n",
       "      <td>housewares</td>\n",
       "      <td>6735.00</td>\n",
       "    </tr>\n",
       "    <tr>\n",
       "      <th>1</th>\n",
       "      <td>computers</td>\n",
       "      <td>6729.00</td>\n",
       "    </tr>\n",
       "    <tr>\n",
       "      <th>2</th>\n",
       "      <td>art</td>\n",
       "      <td>6499.00</td>\n",
       "    </tr>\n",
       "    <tr>\n",
       "      <th>3</th>\n",
       "      <td>small_appliances</td>\n",
       "      <td>4799.00</td>\n",
       "    </tr>\n",
       "    <tr>\n",
       "      <th>4</th>\n",
       "      <td>small_appliances</td>\n",
       "      <td>4690.00</td>\n",
       "    </tr>\n",
       "    <tr>\n",
       "      <th>5</th>\n",
       "      <td>computers</td>\n",
       "      <td>4590.00</td>\n",
       "    </tr>\n",
       "    <tr>\n",
       "      <th>6</th>\n",
       "      <td>musical_instruments</td>\n",
       "      <td>4399.87</td>\n",
       "    </tr>\n",
       "    <tr>\n",
       "      <th>7</th>\n",
       "      <td>consoles_games</td>\n",
       "      <td>4099.99</td>\n",
       "    </tr>\n",
       "    <tr>\n",
       "      <th>8</th>\n",
       "      <td>sports_leisure</td>\n",
       "      <td>4059.00</td>\n",
       "    </tr>\n",
       "    <tr>\n",
       "      <th>9</th>\n",
       "      <td>watches_gifts</td>\n",
       "      <td>3999.90</td>\n",
       "    </tr>\n",
       "  </tbody>\n",
       "</table>\n",
       "</div>"
      ],
      "text/plain": [
       "  product_category_name    price\n",
       "0            housewares  6735.00\n",
       "1             computers  6729.00\n",
       "2                   art  6499.00\n",
       "3      small_appliances  4799.00\n",
       "4      small_appliances  4690.00\n",
       "5             computers  4590.00\n",
       "6   musical_instruments  4399.87\n",
       "7        consoles_games  4099.99\n",
       "8        sports_leisure  4059.00\n",
       "9         watches_gifts  3999.90"
      ]
     },
     "execution_count": 116,
     "metadata": {},
     "output_type": "execute_result"
    }
   ],
   "source": [
    "ten_expensive_categories_merged "
   ]
  },
  {
   "cell_type": "raw",
   "id": "d785b852-2ff1-484a-a2ab-abfa916f8c47",
   "metadata": {},
   "source": [
    "result: The price for the most expensive product is 6735.00 $"
   ]
  },
  {
   "cell_type": "code",
   "execution_count": 118,
   "id": "b4d9992c-cfac-483d-87db-691965af5a3c",
   "metadata": {},
   "outputs": [
    {
     "data": {
      "text/plain": [
       "27652    0.85\n",
       "Name: price, dtype: float64"
      ]
     },
     "execution_count": 118,
     "metadata": {},
     "output_type": "execute_result"
    }
   ],
   "source": [
    "# Calculate the price of the most cheapest product\n",
    "cheapest_category = order_items_df['price'].nsmallest(1)\n",
    "cheapest_category"
   ]
  },
  {
   "cell_type": "code",
   "execution_count": 157,
   "id": "18bbf1d9-cea8-4b27-be43-eac02cc773a9",
   "metadata": {},
   "outputs": [
    {
     "name": "stdout",
     "output_type": "stream",
     "text": [
      "The average price of the products being sold is: 120.65$\n"
     ]
    }
   ],
   "source": [
    "# The average price of the products being sold\n",
    "avg_price_sold_items = order_items_df['price'].mean()\n",
    "print(f\"The average price of the products being sold is: {avg_price_sold_items:.2f}$\")"
   ]
  },
  {
   "cell_type": "markdown",
   "id": "35ec8d83-5897-4759-894e-976c6fa594ca",
   "metadata": {},
   "source": [
    "---"
   ]
  },
  {
   "cell_type": "markdown",
   "id": "05868d7a-cfdf-476f-8459-8ce0c01698f0",
   "metadata": {},
   "source": [
    "### 3.4. What categories of tech products does Magist have?\n",
    "#### How many products of these tech categories have been sold (within the time window of the database snapshot)?\n",
    "#### What percentage does that represent from the overall number of products sold?\n",
    "#### Are expensive tech products popular?"
   ]
  },
  {
   "cell_type": "code",
   "execution_count": 125,
   "id": "9906ef23-f2fa-4529-b82b-137461c23f91",
   "metadata": {
    "collapsed": true,
    "jupyter": {
     "outputs_hidden": true
    }
   },
   "outputs": [
    {
     "data": {
      "text/plain": [
       "array(['perfumery', 'auto', 'bed_bath_table', 'housewares',\n",
       "       'watches_gifts', 'cool_stuff', 'consoles_games', 'furniture_decor',\n",
       "       'health_beauty', 'fashion_shoes', 'computers_accessories', 'toys',\n",
       "       'pet_shop', 'sports_leisure', 'garden_tools',\n",
       "       'furniture_living_room', 'luggage_accessories',\n",
       "       'home_construction', 'kitchen_dining_laundry_garden_furniture',\n",
       "       'construction_tools_construction', 'furniture_bedroom',\n",
       "       'fashion_male_clothing', 'construction_tools_safety',\n",
       "       'fashion_bags_accessories', 'diapers_and_hygiene', 'others',\n",
       "       'telephony', 'christmas_supplies', 'stationery', 'fixed_telephony',\n",
       "       'books_general_interest', 'electronics', 'pc_gamer', 'baby',\n",
       "       'home_appliances', 'food', 'agro_industry_and_commerce',\n",
       "       'books_imported', 'construction_tools_lights', 'drinks',\n",
       "       'costruction_tools_tools', 'home_appliances_2', 'small_appliances',\n",
       "       'industry_commerce_and_business', 'dvds_blu_ray',\n",
       "       'books_technical', 'office_furniture', 'costruction_tools_garden',\n",
       "       'air_conditioning', 'musical_instruments',\n",
       "       'small_appliances_home_oven_and_coffee', 'signaling_and_security',\n",
       "       'art', 'market_place', 'cine_photo', 'food_drink', 'flowers',\n",
       "       'fashion_underwear_beach', 'music', 'audio',\n",
       "       'arts_and_craftmanship', 'home_confort', 'fashio_female_clothing',\n",
       "       'fashion_childrens_clothes', 'la_cuisine', 'fashion_sport',\n",
       "       'party_supplies', 'furniture_mattress_and_upholstery',\n",
       "       'portable_kitchen_food_processors', 'home_comfort_2', 'computers',\n",
       "       'cds_dvds_musicals', 'tablets_printing_image',\n",
       "       'security_and_services'], dtype=object)"
      ]
     },
     "execution_count": 125,
     "metadata": {},
     "output_type": "execute_result"
    }
   ],
   "source": [
    "translated_products_df['product_category_name'].unique()"
   ]
  },
  {
   "cell_type": "code",
   "execution_count": 129,
   "id": "138a8740-7158-4729-b7f2-ffec99fa2a43",
   "metadata": {},
   "outputs": [],
   "source": [
    "# What categories of tech products does Magist have?\n",
    "tec_products = translated_products_df['product_category_name'].str.contains('computer|telephon|pc_game|tablet|audio|electronics', case=False)"
   ]
  },
  {
   "cell_type": "code",
   "execution_count": 131,
   "id": "a90bbf11-cff5-4574-933e-7917179f13ba",
   "metadata": {},
   "outputs": [
    {
     "data": {
      "text/html": [
       "<div>\n",
       "<style scoped>\n",
       "    .dataframe tbody tr th:only-of-type {\n",
       "        vertical-align: middle;\n",
       "    }\n",
       "\n",
       "    .dataframe tbody tr th {\n",
       "        vertical-align: top;\n",
       "    }\n",
       "\n",
       "    .dataframe thead th {\n",
       "        text-align: right;\n",
       "    }\n",
       "</style>\n",
       "<table border=\"1\" class=\"dataframe\">\n",
       "  <thead>\n",
       "    <tr style=\"text-align: right;\">\n",
       "      <th></th>\n",
       "      <th>product_id</th>\n",
       "      <th>product_name_length</th>\n",
       "      <th>product_description_length</th>\n",
       "      <th>product_photos_qty</th>\n",
       "      <th>product_weight_g</th>\n",
       "      <th>product_length_cm</th>\n",
       "      <th>product_height_cm</th>\n",
       "      <th>product_width_cm</th>\n",
       "      <th>product_category_name</th>\n",
       "    </tr>\n",
       "  </thead>\n",
       "  <tbody>\n",
       "    <tr>\n",
       "      <th>13</th>\n",
       "      <td>0021a87d4997a48b6cef1665602be0f5</td>\n",
       "      <td>58</td>\n",
       "      <td>946</td>\n",
       "      <td>6</td>\n",
       "      <td>650</td>\n",
       "      <td>25</td>\n",
       "      <td>10</td>\n",
       "      <td>15</td>\n",
       "      <td>computers_accessories</td>\n",
       "    </tr>\n",
       "    <tr>\n",
       "      <th>60</th>\n",
       "      <td>00917855135d67fb060dcd81863166a4</td>\n",
       "      <td>55</td>\n",
       "      <td>197</td>\n",
       "      <td>1</td>\n",
       "      <td>1133</td>\n",
       "      <td>16</td>\n",
       "      <td>16</td>\n",
       "      <td>11</td>\n",
       "      <td>computers_accessories</td>\n",
       "    </tr>\n",
       "    <tr>\n",
       "      <th>68</th>\n",
       "      <td>00a0db09dc7c94d512ec51900141ed69</td>\n",
       "      <td>57</td>\n",
       "      <td>338</td>\n",
       "      <td>3</td>\n",
       "      <td>400</td>\n",
       "      <td>23</td>\n",
       "      <td>7</td>\n",
       "      <td>15</td>\n",
       "      <td>computers_accessories</td>\n",
       "    </tr>\n",
       "    <tr>\n",
       "      <th>69</th>\n",
       "      <td>00a8c742ae1da97e9064205459977e6c</td>\n",
       "      <td>38</td>\n",
       "      <td>581</td>\n",
       "      <td>1</td>\n",
       "      <td>150</td>\n",
       "      <td>16</td>\n",
       "      <td>23</td>\n",
       "      <td>13</td>\n",
       "      <td>computers_accessories</td>\n",
       "    </tr>\n",
       "    <tr>\n",
       "      <th>70</th>\n",
       "      <td>00a985c524adbb97a4211e4ce17aabec</td>\n",
       "      <td>58</td>\n",
       "      <td>734</td>\n",
       "      <td>3</td>\n",
       "      <td>250</td>\n",
       "      <td>17</td>\n",
       "      <td>4</td>\n",
       "      <td>12</td>\n",
       "      <td>telephony</td>\n",
       "    </tr>\n",
       "    <tr>\n",
       "      <th>...</th>\n",
       "      <td>...</td>\n",
       "      <td>...</td>\n",
       "      <td>...</td>\n",
       "      <td>...</td>\n",
       "      <td>...</td>\n",
       "      <td>...</td>\n",
       "      <td>...</td>\n",
       "      <td>...</td>\n",
       "      <td>...</td>\n",
       "    </tr>\n",
       "    <tr>\n",
       "      <th>32901</th>\n",
       "      <td>ffae6024df16802ba75f761d9aa24367</td>\n",
       "      <td>52</td>\n",
       "      <td>845</td>\n",
       "      <td>2</td>\n",
       "      <td>150</td>\n",
       "      <td>27</td>\n",
       "      <td>5</td>\n",
       "      <td>20</td>\n",
       "      <td>telephony</td>\n",
       "    </tr>\n",
       "    <tr>\n",
       "      <th>32914</th>\n",
       "      <td>ffbfa9e143fda4420454d0f4e88a3cd5</td>\n",
       "      <td>51</td>\n",
       "      <td>2026</td>\n",
       "      <td>3</td>\n",
       "      <td>793</td>\n",
       "      <td>28</td>\n",
       "      <td>15</td>\n",
       "      <td>32</td>\n",
       "      <td>computers_accessories</td>\n",
       "    </tr>\n",
       "    <tr>\n",
       "      <th>32936</th>\n",
       "      <td>ffe75578163d45caa52bca3529cb511e</td>\n",
       "      <td>60</td>\n",
       "      <td>818</td>\n",
       "      <td>6</td>\n",
       "      <td>350</td>\n",
       "      <td>17</td>\n",
       "      <td>4</td>\n",
       "      <td>12</td>\n",
       "      <td>telephony</td>\n",
       "    </tr>\n",
       "    <tr>\n",
       "      <th>32939</th>\n",
       "      <td>ffeb228c521d5464d1f71444da96c446</td>\n",
       "      <td>46</td>\n",
       "      <td>394</td>\n",
       "      <td>4</td>\n",
       "      <td>200</td>\n",
       "      <td>19</td>\n",
       "      <td>3</td>\n",
       "      <td>11</td>\n",
       "      <td>telephony</td>\n",
       "    </tr>\n",
       "    <tr>\n",
       "      <th>32949</th>\n",
       "      <td>fffdb2d0ec8d6a61f0a0a0db3f25b441</td>\n",
       "      <td>47</td>\n",
       "      <td>501</td>\n",
       "      <td>5</td>\n",
       "      <td>150</td>\n",
       "      <td>16</td>\n",
       "      <td>4</td>\n",
       "      <td>13</td>\n",
       "      <td>computers_accessories</td>\n",
       "    </tr>\n",
       "  </tbody>\n",
       "</table>\n",
       "<p>3506 rows × 9 columns</p>\n",
       "</div>"
      ],
      "text/plain": [
       "                             product_id  product_name_length  \\\n",
       "13     0021a87d4997a48b6cef1665602be0f5                   58   \n",
       "60     00917855135d67fb060dcd81863166a4                   55   \n",
       "68     00a0db09dc7c94d512ec51900141ed69                   57   \n",
       "69     00a8c742ae1da97e9064205459977e6c                   38   \n",
       "70     00a985c524adbb97a4211e4ce17aabec                   58   \n",
       "...                                 ...                  ...   \n",
       "32901  ffae6024df16802ba75f761d9aa24367                   52   \n",
       "32914  ffbfa9e143fda4420454d0f4e88a3cd5                   51   \n",
       "32936  ffe75578163d45caa52bca3529cb511e                   60   \n",
       "32939  ffeb228c521d5464d1f71444da96c446                   46   \n",
       "32949  fffdb2d0ec8d6a61f0a0a0db3f25b441                   47   \n",
       "\n",
       "       product_description_length  product_photos_qty  product_weight_g  \\\n",
       "13                            946                   6               650   \n",
       "60                            197                   1              1133   \n",
       "68                            338                   3               400   \n",
       "69                            581                   1               150   \n",
       "70                            734                   3               250   \n",
       "...                           ...                 ...               ...   \n",
       "32901                         845                   2               150   \n",
       "32914                        2026                   3               793   \n",
       "32936                         818                   6               350   \n",
       "32939                         394                   4               200   \n",
       "32949                         501                   5               150   \n",
       "\n",
       "       product_length_cm  product_height_cm  product_width_cm  \\\n",
       "13                    25                 10                15   \n",
       "60                    16                 16                11   \n",
       "68                    23                  7                15   \n",
       "69                    16                 23                13   \n",
       "70                    17                  4                12   \n",
       "...                  ...                ...               ...   \n",
       "32901                 27                  5                20   \n",
       "32914                 28                 15                32   \n",
       "32936                 17                  4                12   \n",
       "32939                 19                  3                11   \n",
       "32949                 16                  4                13   \n",
       "\n",
       "       product_category_name  \n",
       "13     computers_accessories  \n",
       "60     computers_accessories  \n",
       "68     computers_accessories  \n",
       "69     computers_accessories  \n",
       "70                 telephony  \n",
       "...                      ...  \n",
       "32901              telephony  \n",
       "32914  computers_accessories  \n",
       "32936              telephony  \n",
       "32939              telephony  \n",
       "32949  computers_accessories  \n",
       "\n",
       "[3506 rows x 9 columns]"
      ]
     },
     "execution_count": 131,
     "metadata": {},
     "output_type": "execute_result"
    }
   ],
   "source": [
    "tec_products_df = translated_products_df[tec_products]\n",
    "tec_products_df"
   ]
  },
  {
   "cell_type": "code",
   "execution_count": 133,
   "id": "7407fa26-9580-4b39-aa31-940912b594ae",
   "metadata": {},
   "outputs": [
    {
     "data": {
      "text/plain": [
       "array(['computers_accessories', 'telephony', 'fixed_telephony',\n",
       "       'electronics', 'pc_gamer', 'audio', 'computers',\n",
       "       'tablets_printing_image'], dtype=object)"
      ]
     },
     "execution_count": 133,
     "metadata": {},
     "output_type": "execute_result"
    }
   ],
   "source": [
    "# List of tech products which magist has\n",
    "tec_products_df['product_category_name'].unique()"
   ]
  },
  {
   "cell_type": "code",
   "execution_count": 166,
   "id": "f6cd89b5-dff6-4df1-bd88-85490a3c5802",
   "metadata": {},
   "outputs": [
    {
     "name": "stdout",
     "output_type": "stream",
     "text": [
      "Number of tech products sold is: 16062\n"
     ]
    }
   ],
   "source": [
    "# How many products of these tech categories have been sold\n",
    "tec_product_sold_df = order_items_df[order_items_df['product_id'].isin(tec_products_df['product_id'])]\n",
    "num_tec_product_sold = tec_product_sold_df.shape[0]\n",
    "print(f\"Number of tech products sold is: {num_tec_product_sold}\")"
   ]
  },
  {
   "cell_type": "code",
   "execution_count": 167,
   "id": "54984371-8e62-4948-b5b9-42f04f10b8dd",
   "metadata": {},
   "outputs": [
    {
     "data": {
      "text/plain": [
       "112650"
      ]
     },
     "execution_count": 167,
     "metadata": {},
     "output_type": "execute_result"
    }
   ],
   "source": [
    "total_number_sold = order_items_df['product_id'].count()\n",
    "total_number_sold"
   ]
  },
  {
   "cell_type": "code",
   "execution_count": 168,
   "id": "bfa67871-a1da-4f27-adb8-5b7782534fae",
   "metadata": {},
   "outputs": [
    {
     "name": "stdout",
     "output_type": "stream",
     "text": [
      "Percentage of tech product's sale: 14.26\n"
     ]
    }
   ],
   "source": [
    "# Calculate the percentage of tech products sale\n",
    "print(f\"Percentage of tech product's sale: {(100*num_tec_product_sold/total_number_sold):.2f}\")"
   ]
  },
  {
   "cell_type": "code",
   "execution_count": 170,
   "id": "e0eccb11-c352-481b-a761-ab089e7951e3",
   "metadata": {},
   "outputs": [],
   "source": [
    "# Are expensive tech products popular?\n",
    "# first step: categorize the prices\n",
    "\n",
    "def get_price_category(price):\n",
    "    if price > 1000:\n",
    "        return 'expensive'\n",
    "    elif price > 100:\n",
    "        return 'Mid-range'\n",
    "    else:\n",
    "        return 'cheap'\n",
    "        \n",
    "tec_product_sold_df.loc[:,'price_range'] = tec_product_sold_df.loc[:,'price'].apply(get_price_category)\n"
   ]
  },
  {
   "cell_type": "code",
   "execution_count": 172,
   "id": "625cbc20-2956-4407-9813-b8f0c2a817b0",
   "metadata": {},
   "outputs": [
    {
     "data": {
      "text/html": [
       "<div>\n",
       "<style scoped>\n",
       "    .dataframe tbody tr th:only-of-type {\n",
       "        vertical-align: middle;\n",
       "    }\n",
       "\n",
       "    .dataframe tbody tr th {\n",
       "        vertical-align: top;\n",
       "    }\n",
       "\n",
       "    .dataframe thead th {\n",
       "        text-align: right;\n",
       "    }\n",
       "</style>\n",
       "<table border=\"1\" class=\"dataframe\">\n",
       "  <thead>\n",
       "    <tr style=\"text-align: right;\">\n",
       "      <th></th>\n",
       "      <th>order_id</th>\n",
       "      <th>order_item_id</th>\n",
       "      <th>product_id</th>\n",
       "      <th>seller_id</th>\n",
       "      <th>shipping_limit_date</th>\n",
       "      <th>price</th>\n",
       "      <th>freight_value</th>\n",
       "      <th>price_range</th>\n",
       "    </tr>\n",
       "  </thead>\n",
       "  <tbody>\n",
       "    <tr>\n",
       "      <th>105322</th>\n",
       "      <td>ef43444651cdedfaefc1123e4acd02aa</td>\n",
       "      <td>2</td>\n",
       "      <td>b0c8da302d49498d2ce6be8c631e4e20</td>\n",
       "      <td>88460e8ebdecbfecb5f9601833981930</td>\n",
       "      <td>2018-06-07 04:31:56</td>\n",
       "      <td>59.90</td>\n",
       "      <td>13.54</td>\n",
       "      <td>cheap</td>\n",
       "    </tr>\n",
       "    <tr>\n",
       "      <th>64351</th>\n",
       "      <td>9312a513c9aa606d098a856e87a68d33</td>\n",
       "      <td>1</td>\n",
       "      <td>9cc7982cbd4b6bd47802ac85347035dd</td>\n",
       "      <td>d5ba419e26d246a0719437cf37d9b46d</td>\n",
       "      <td>2018-04-19 16:31:00</td>\n",
       "      <td>95.00</td>\n",
       "      <td>8.43</td>\n",
       "      <td>cheap</td>\n",
       "    </tr>\n",
       "    <tr>\n",
       "      <th>15849</th>\n",
       "      <td>2438d5b697d42d6c29d6cd8c6a7eef4f</td>\n",
       "      <td>1</td>\n",
       "      <td>b37b72d5a56f887725c2862184b8cab8</td>\n",
       "      <td>db4350fd57ae30082dec7acbaacc17f9</td>\n",
       "      <td>2018-01-15 15:57:30</td>\n",
       "      <td>21.99</td>\n",
       "      <td>15.10</td>\n",
       "      <td>cheap</td>\n",
       "    </tr>\n",
       "    <tr>\n",
       "      <th>13932</th>\n",
       "      <td>1fb291320c9a5276869ee9f50fe885e2</td>\n",
       "      <td>1</td>\n",
       "      <td>e6a09abfe91b8e27c7fe22aac84dc333</td>\n",
       "      <td>9f505651f4a6abe901a56cdc21508025</td>\n",
       "      <td>2018-07-30 20:44:25</td>\n",
       "      <td>54.99</td>\n",
       "      <td>18.19</td>\n",
       "      <td>cheap</td>\n",
       "    </tr>\n",
       "    <tr>\n",
       "      <th>72013</th>\n",
       "      <td>a446e19eaf1b7ae1ac483f47c29c2d36</td>\n",
       "      <td>1</td>\n",
       "      <td>7ce94ab189134e2d3c05f496d635419c</td>\n",
       "      <td>8b321bb669392f5163d04c59e235e066</td>\n",
       "      <td>2018-02-21 16:26:41</td>\n",
       "      <td>13.65</td>\n",
       "      <td>11.85</td>\n",
       "      <td>cheap</td>\n",
       "    </tr>\n",
       "  </tbody>\n",
       "</table>\n",
       "</div>"
      ],
      "text/plain": [
       "                                order_id  order_item_id  \\\n",
       "105322  ef43444651cdedfaefc1123e4acd02aa              2   \n",
       "64351   9312a513c9aa606d098a856e87a68d33              1   \n",
       "15849   2438d5b697d42d6c29d6cd8c6a7eef4f              1   \n",
       "13932   1fb291320c9a5276869ee9f50fe885e2              1   \n",
       "72013   a446e19eaf1b7ae1ac483f47c29c2d36              1   \n",
       "\n",
       "                              product_id                         seller_id  \\\n",
       "105322  b0c8da302d49498d2ce6be8c631e4e20  88460e8ebdecbfecb5f9601833981930   \n",
       "64351   9cc7982cbd4b6bd47802ac85347035dd  d5ba419e26d246a0719437cf37d9b46d   \n",
       "15849   b37b72d5a56f887725c2862184b8cab8  db4350fd57ae30082dec7acbaacc17f9   \n",
       "13932   e6a09abfe91b8e27c7fe22aac84dc333  9f505651f4a6abe901a56cdc21508025   \n",
       "72013   7ce94ab189134e2d3c05f496d635419c  8b321bb669392f5163d04c59e235e066   \n",
       "\n",
       "       shipping_limit_date  price  freight_value price_range  \n",
       "105322 2018-06-07 04:31:56  59.90          13.54       cheap  \n",
       "64351  2018-04-19 16:31:00  95.00           8.43       cheap  \n",
       "15849  2018-01-15 15:57:30  21.99          15.10       cheap  \n",
       "13932  2018-07-30 20:44:25  54.99          18.19       cheap  \n",
       "72013  2018-02-21 16:26:41  13.65          11.85       cheap  "
      ]
     },
     "execution_count": 172,
     "metadata": {},
     "output_type": "execute_result"
    }
   ],
   "source": [
    "tec_product_sold_df.sample(5)"
   ]
  },
  {
   "cell_type": "code",
   "execution_count": 180,
   "id": "b352af6c-add4-4e16-a114-1f3312e61999",
   "metadata": {},
   "outputs": [
    {
     "name": "stdout",
     "output_type": "stream",
     "text": [
      "The ercentage of expensive tech products sold: 1.21%\n"
     ]
    }
   ],
   "source": [
    "#  second step: Calculate the percentage of expensive tech products\n",
    "\n",
    "number_expensive_tech_products = int(tec_product_sold_df['price_range'].value_counts().iloc[2])\n",
    "\n",
    "# we have calculated the totel number of tech products sold: num_tec_product_sold\n",
    "\n",
    "print(f\"The ercentage of expensive tech products sold: {100 * number_expensive_tech_products/num_tec_product_sold:.2f}%\")"
   ]
  },
  {
   "cell_type": "code",
   "execution_count": 126,
   "id": "0ac769cd-49ac-457c-b058-2651e7c90306",
   "metadata": {},
   "outputs": [
    {
     "data": {
      "text/html": [
       "<div>\n",
       "<style scoped>\n",
       "    .dataframe tbody tr th:only-of-type {\n",
       "        vertical-align: middle;\n",
       "    }\n",
       "\n",
       "    .dataframe tbody tr th {\n",
       "        vertical-align: top;\n",
       "    }\n",
       "\n",
       "    .dataframe thead th {\n",
       "        text-align: right;\n",
       "    }\n",
       "</style>\n",
       "<table border=\"1\" class=\"dataframe\">\n",
       "  <thead>\n",
       "    <tr style=\"text-align: right;\">\n",
       "      <th></th>\n",
       "      <th>order_id</th>\n",
       "      <th>order_item_id</th>\n",
       "      <th>product_id</th>\n",
       "      <th>seller_id</th>\n",
       "      <th>shipping_limit_date</th>\n",
       "      <th>price</th>\n",
       "      <th>freight_value</th>\n",
       "    </tr>\n",
       "  </thead>\n",
       "  <tbody>\n",
       "    <tr>\n",
       "      <th>0</th>\n",
       "      <td>00010242fe8c5a6d1ba2dd792cb16214</td>\n",
       "      <td>1</td>\n",
       "      <td>4244733e06e7ecb4970a6e2683c13e61</td>\n",
       "      <td>48436dade18ac8b2bce089ec2a041202</td>\n",
       "      <td>2017-09-19 11:45:35</td>\n",
       "      <td>58.9</td>\n",
       "      <td>13.29</td>\n",
       "    </tr>\n",
       "    <tr>\n",
       "      <th>1</th>\n",
       "      <td>00018f77f2f0320c557190d7a144bdd3</td>\n",
       "      <td>1</td>\n",
       "      <td>e5f2d52b802189ee658865ca93d83a8f</td>\n",
       "      <td>dd7ddc04e1b6c2c614352b383efe2d36</td>\n",
       "      <td>2017-05-03 13:05:13</td>\n",
       "      <td>239.9</td>\n",
       "      <td>19.93</td>\n",
       "    </tr>\n",
       "    <tr>\n",
       "      <th>2</th>\n",
       "      <td>000229ec398224ef6ca0657da4fc703e</td>\n",
       "      <td>1</td>\n",
       "      <td>c777355d18b72b67abbeef9df44fd0fd</td>\n",
       "      <td>5b51032eddd242adc84c38acab88f23d</td>\n",
       "      <td>2018-01-18 15:48:30</td>\n",
       "      <td>199.0</td>\n",
       "      <td>17.87</td>\n",
       "    </tr>\n",
       "  </tbody>\n",
       "</table>\n",
       "</div>"
      ],
      "text/plain": [
       "                           order_id  order_item_id  \\\n",
       "0  00010242fe8c5a6d1ba2dd792cb16214              1   \n",
       "1  00018f77f2f0320c557190d7a144bdd3              1   \n",
       "2  000229ec398224ef6ca0657da4fc703e              1   \n",
       "\n",
       "                         product_id                         seller_id  \\\n",
       "0  4244733e06e7ecb4970a6e2683c13e61  48436dade18ac8b2bce089ec2a041202   \n",
       "1  e5f2d52b802189ee658865ca93d83a8f  dd7ddc04e1b6c2c614352b383efe2d36   \n",
       "2  c777355d18b72b67abbeef9df44fd0fd  5b51032eddd242adc84c38acab88f23d   \n",
       "\n",
       "  shipping_limit_date  price  freight_value  \n",
       "0 2017-09-19 11:45:35   58.9          13.29  \n",
       "1 2017-05-03 13:05:13  239.9          19.93  \n",
       "2 2018-01-18 15:48:30  199.0          17.87  "
      ]
     },
     "execution_count": 126,
     "metadata": {},
     "output_type": "execute_result"
    }
   ],
   "source": [
    "order_items_df.head(3)"
   ]
  },
  {
   "cell_type": "markdown",
   "id": "c99f9651-c353-4b2e-a8b8-ba90468e920b",
   "metadata": {},
   "source": [
    "### 3.5. How is the delivery capacity of Magist?\n",
    "#### What’s the average time between the order being placed and the product being delivered?\n",
    "#### How many orders are delivered on time vs orders delivered with a delay?\n",
    "#### Is there any pattern for delayed orders, e.g. big products being delayed more often?"
   ]
  },
  {
   "cell_type": "code",
   "execution_count": 186,
   "id": "10164eee-a2ed-4240-9636-96f7118092ab",
   "metadata": {},
   "outputs": [],
   "source": [
    "orders_df.loc[:,'delivery_time'] = (orders_df['order_delivered_customer_date']-orders_df['order_purchase_timestamp']).dt.days"
   ]
  },
  {
   "cell_type": "code",
   "execution_count": 187,
   "id": "f6fe8e2d-b737-4b2b-ba5e-c4eeab867460",
   "metadata": {
    "collapsed": true,
    "jupyter": {
     "outputs_hidden": true
    }
   },
   "outputs": [
    {
     "data": {
      "text/html": [
       "<div>\n",
       "<style scoped>\n",
       "    .dataframe tbody tr th:only-of-type {\n",
       "        vertical-align: middle;\n",
       "    }\n",
       "\n",
       "    .dataframe tbody tr th {\n",
       "        vertical-align: top;\n",
       "    }\n",
       "\n",
       "    .dataframe thead th {\n",
       "        text-align: right;\n",
       "    }\n",
       "</style>\n",
       "<table border=\"1\" class=\"dataframe\">\n",
       "  <thead>\n",
       "    <tr style=\"text-align: right;\">\n",
       "      <th></th>\n",
       "      <th>order_id</th>\n",
       "      <th>customer_id</th>\n",
       "      <th>order_status</th>\n",
       "      <th>order_purchase_timestamp</th>\n",
       "      <th>order_approved_at</th>\n",
       "      <th>order_delivered_carrier_date</th>\n",
       "      <th>order_delivered_customer_date</th>\n",
       "      <th>order_estimated_delivery_date</th>\n",
       "      <th>delivery_time</th>\n",
       "    </tr>\n",
       "  </thead>\n",
       "  <tbody>\n",
       "    <tr>\n",
       "      <th>0</th>\n",
       "      <td>00010242fe8c5a6d1ba2dd792cb16214</td>\n",
       "      <td>3ce436f183e68e07877b285a838db11a</td>\n",
       "      <td>delivered</td>\n",
       "      <td>2017-09-13 10:59:02</td>\n",
       "      <td>2017-09-13 11:45:35</td>\n",
       "      <td>2017-09-19 20:34:16</td>\n",
       "      <td>2017-09-21 01:43:48</td>\n",
       "      <td>2017-09-29 02:00:00</td>\n",
       "      <td>7.0</td>\n",
       "    </tr>\n",
       "    <tr>\n",
       "      <th>1</th>\n",
       "      <td>00018f77f2f0320c557190d7a144bdd3</td>\n",
       "      <td>f6dd3ec061db4e3987629fe6b26e5cce</td>\n",
       "      <td>delivered</td>\n",
       "      <td>2017-04-26 12:53:06</td>\n",
       "      <td>2017-04-26 13:05:13</td>\n",
       "      <td>2017-05-04 16:35:00</td>\n",
       "      <td>2017-05-12 18:04:24</td>\n",
       "      <td>2017-05-15 02:00:00</td>\n",
       "      <td>16.0</td>\n",
       "    </tr>\n",
       "    <tr>\n",
       "      <th>2</th>\n",
       "      <td>000229ec398224ef6ca0657da4fc703e</td>\n",
       "      <td>6489ae5e4333f3693df5ad4372dab6d3</td>\n",
       "      <td>delivered</td>\n",
       "      <td>2018-01-14 15:33:31</td>\n",
       "      <td>2018-01-14 15:48:30</td>\n",
       "      <td>2018-01-16 13:36:48</td>\n",
       "      <td>2018-01-22 14:19:16</td>\n",
       "      <td>2018-02-05 01:00:00</td>\n",
       "      <td>7.0</td>\n",
       "    </tr>\n",
       "    <tr>\n",
       "      <th>3</th>\n",
       "      <td>00024acbcdf0a6daa1e931b038114c75</td>\n",
       "      <td>d4eb9395c8c0431ee92fce09860c5a06</td>\n",
       "      <td>delivered</td>\n",
       "      <td>2018-08-08 12:00:35</td>\n",
       "      <td>2018-08-08 12:10:18</td>\n",
       "      <td>2018-08-10 15:28:00</td>\n",
       "      <td>2018-08-14 15:32:39</td>\n",
       "      <td>2018-08-20 02:00:00</td>\n",
       "      <td>6.0</td>\n",
       "    </tr>\n",
       "    <tr>\n",
       "      <th>4</th>\n",
       "      <td>00042b26cf59d7ce69dfabb4e55b4fd9</td>\n",
       "      <td>58dbd0b2d70206bf40e62cd34e84d795</td>\n",
       "      <td>delivered</td>\n",
       "      <td>2017-02-04 14:57:51</td>\n",
       "      <td>2017-02-04 15:10:13</td>\n",
       "      <td>2017-02-16 10:46:09</td>\n",
       "      <td>2017-03-01 17:42:31</td>\n",
       "      <td>2017-03-17 01:00:00</td>\n",
       "      <td>25.0</td>\n",
       "    </tr>\n",
       "  </tbody>\n",
       "</table>\n",
       "</div>"
      ],
      "text/plain": [
       "                           order_id                       customer_id  \\\n",
       "0  00010242fe8c5a6d1ba2dd792cb16214  3ce436f183e68e07877b285a838db11a   \n",
       "1  00018f77f2f0320c557190d7a144bdd3  f6dd3ec061db4e3987629fe6b26e5cce   \n",
       "2  000229ec398224ef6ca0657da4fc703e  6489ae5e4333f3693df5ad4372dab6d3   \n",
       "3  00024acbcdf0a6daa1e931b038114c75  d4eb9395c8c0431ee92fce09860c5a06   \n",
       "4  00042b26cf59d7ce69dfabb4e55b4fd9  58dbd0b2d70206bf40e62cd34e84d795   \n",
       "\n",
       "  order_status order_purchase_timestamp   order_approved_at  \\\n",
       "0    delivered      2017-09-13 10:59:02 2017-09-13 11:45:35   \n",
       "1    delivered      2017-04-26 12:53:06 2017-04-26 13:05:13   \n",
       "2    delivered      2018-01-14 15:33:31 2018-01-14 15:48:30   \n",
       "3    delivered      2018-08-08 12:00:35 2018-08-08 12:10:18   \n",
       "4    delivered      2017-02-04 14:57:51 2017-02-04 15:10:13   \n",
       "\n",
       "  order_delivered_carrier_date order_delivered_customer_date  \\\n",
       "0          2017-09-19 20:34:16           2017-09-21 01:43:48   \n",
       "1          2017-05-04 16:35:00           2017-05-12 18:04:24   \n",
       "2          2018-01-16 13:36:48           2018-01-22 14:19:16   \n",
       "3          2018-08-10 15:28:00           2018-08-14 15:32:39   \n",
       "4          2017-02-16 10:46:09           2017-03-01 17:42:31   \n",
       "\n",
       "  order_estimated_delivery_date  delivery_time  \n",
       "0           2017-09-29 02:00:00            7.0  \n",
       "1           2017-05-15 02:00:00           16.0  \n",
       "2           2018-02-05 01:00:00            7.0  \n",
       "3           2018-08-20 02:00:00            6.0  \n",
       "4           2017-03-17 01:00:00           25.0  "
      ]
     },
     "execution_count": 187,
     "metadata": {},
     "output_type": "execute_result"
    }
   ],
   "source": [
    "orders_df.head()"
   ]
  },
  {
   "cell_type": "code",
   "execution_count": 188,
   "id": "7d91cdda-c18e-4885-8765-0a06e3d1f113",
   "metadata": {},
   "outputs": [
    {
     "name": "stdout",
     "output_type": "stream",
     "text": [
      "The average delivery time is: 12 days\n"
     ]
    }
   ],
   "source": [
    "# Calculate the average delivery time\n",
    "avg_delivery_time = orders_df['delivery_time'].mean()\n",
    "print(f\"The average delivery time is: {int(avg_delivery_time)} days\")"
   ]
  },
  {
   "cell_type": "markdown",
   "id": "a7593003-1c2e-4353-8e01-fc30b26a9dc4",
   "metadata": {},
   "source": [
    "##### To make sure everything is allright, we have to take a look at distribution, to see whether there are outliers or not"
   ]
  },
  {
   "cell_type": "code",
   "execution_count": 192,
   "id": "b2633e17-ebe3-4da8-9e9e-2d8e0813d890",
   "metadata": {},
   "outputs": [
    {
     "data": {
      "image/png": "[encoded data removed]",
      "text/plain": [
       "<Figure size 640x480 with 1 Axes>"
      ]
     },
     "metadata": {},
     "output_type": "display_data"
    }
   ],
   "source": [
    "# Plot the histogram chart of delivery time\n",
    "\n",
    "sns.histplot(data=orders_df, x= 'delivery_time');"
   ]
  },
  {
   "cell_type": "markdown",
   "id": "33d2cd2c-3f58-4439-96f7-721c901eefae",
   "metadata": {},
   "source": [
    "##### It seems that we have many outliers. To explore more and remove outliers we use Boxplot"
   ]
  },
  {
   "cell_type": "code",
   "execution_count": 191,
   "id": "756979b7-0af9-4cc2-9f1c-b54cc4db96f5",
   "metadata": {},
   "outputs": [
    {
     "data": {
      "image/png": "[encoded data removed]",
      "text/plain": [
       "<Figure size 640x480 with 1 Axes>"
      ]
     },
     "metadata": {},
     "output_type": "display_data"
    }
   ],
   "source": [
    "sns.boxplot(data=orders_df, x='delivery_time');"
   ]
  },
  {
   "cell_type": "code",
   "execution_count": 193,
   "id": "0439cbfc-0908-431f-abda-0f38d5af76f9",
   "metadata": {},
   "outputs": [],
   "source": [
    "# build a function to remove outliers\n",
    "def remove_outliers(df,columns):\n",
    "    df_clean = df.copy()\n",
    "    for column in columns:\n",
    "        Q1 = df_clean[column].quantile(0.25)\n",
    "        Q3 = df_clean[column].quantile(0.75)\n",
    "        IQR = Q3 - Q1\n",
    "        lower_whisker = Q1 - 1.5 * IQR\n",
    "        upper_whisker = Q3 + 1.5 * IQR\n",
    "        df_clean = df_clean.loc[(df_clean[column] >= lower_whisker) & (df_clean[column] <= upper_whisker)]\n",
    "    return df_clean"
   ]
  },
  {
   "cell_type": "code",
   "execution_count": 196,
   "id": "336f10a8-eecc-41a7-ae7a-5ee8a1beb0db",
   "metadata": {},
   "outputs": [],
   "source": [
    "# applying the function to dataframe\n",
    "orders_df_filtered = remove_outliers(orders_df, ['delivery_time'])\n"
   ]
  },
  {
   "cell_type": "code",
   "execution_count": 197,
   "id": "8bc49c3b-4b7c-4068-89b2-39596d2d3e0a",
   "metadata": {},
   "outputs": [
    {
     "data": {
      "image/png": "[encoded data removed]",
      "text/plain": [
       "<Figure size 640x480 with 1 Axes>"
      ]
     },
     "metadata": {},
     "output_type": "display_data"
    }
   ],
   "source": [
    "sns.boxplot(data=orders_df_filtered, x='delivery_time');"
   ]
  },
  {
   "cell_type": "markdown",
   "id": "5c942153-2abf-4adb-bb0f-9298059f64dc",
   "metadata": {},
   "source": [
    "##### Now we calculate the average delivery time using orders_df_filtered"
   ]
  },
  {
   "cell_type": "code",
   "execution_count": 198,
   "id": "02a10985-a3c2-446d-b8fd-f5374210f34e",
   "metadata": {},
   "outputs": [
    {
     "name": "stdout",
     "output_type": "stream",
     "text": [
      "The average delivery time is: 10 days\n"
     ]
    }
   ],
   "source": [
    "avg_delivery_time = orders_df_filtered['delivery_time'].mean()\n",
    "print(f\"The average delivery time is: {int(avg_delivery_time)} days\")"
   ]
  },
  {
   "cell_type": "code",
   "execution_count": 203,
   "id": "baf31bd9-243b-4baa-84e2-77f7467b81d3",
   "metadata": {},
   "outputs": [
    {
     "data": {
      "image/png": "[encoded data removed]",
      "text/plain": [
       "<Figure size 600x400 with 1 Axes>"
      ]
     },
     "metadata": {},
     "output_type": "display_data"
    }
   ],
   "source": [
    "plt.figure(figsize=(6,4))\n",
    "sns.histplot(data=orders_df_filtered, x= 'delivery_time', bins=30)\n",
    "plt.xlabel('Delivery Time(days)')\n",
    "plt.ylabel('Number of Orders')\n",
    "plt.title('Distribution of Delivery Time');"
   ]
  },
  {
   "cell_type": "markdown",
   "id": "b6251882-3e60-4cda-810c-e2403fa17a8a",
   "metadata": {},
   "source": [
    "#### As we can see, the most products are delivered within 7 days!! which seems not fats nowadays. "
   ]
  },
  {
   "cell_type": "markdown",
   "id": "0ecf4ddb-9a24-4033-b832-a8adde119e20",
   "metadata": {},
   "source": [
    "#### Calculate the percentage of On-schedule delivery"
   ]
  },
  {
   "cell_type": "code",
   "execution_count": 205,
   "id": "c43c28e8-f7a2-42f8-8e96-1d4cd8bfbd15",
   "metadata": {},
   "outputs": [
    {
     "data": {
      "text/plain": [
       "order_status\n",
       "delivered    91425\n",
       "canceled         3\n",
       "Name: count, dtype: int64"
      ]
     },
     "execution_count": 205,
     "metadata": {},
     "output_type": "execute_result"
    }
   ],
   "source": [
    "orders_df_filtered['order_status'].value_counts()"
   ]
  },
  {
   "cell_type": "code",
   "execution_count": 209,
   "id": "f08189d1-2edd-49b8-a211-1075b32c3300",
   "metadata": {},
   "outputs": [
    {
     "name": "stdout",
     "output_type": "stream",
     "text": [
      "The percentage of on-schedule delivery is 95.79%\n"
     ]
    }
   ],
   "source": [
    "number_on_schedule_delivery = orders_df_filtered[orders_df_filtered['order_delivered_customer_date'] < orders_df_filtered['order_estimated_delivery_date']].shape[0]\n",
    "total_orders = orders_df_filtered.shape[0]   \n",
    "print(f\"The percentage of on-schedule delivery is {100*number_on_schedule_delivery/total_orders:.2f}%\")"
   ]
  },
  {
   "cell_type": "markdown",
   "id": "5aba8870-abfc-458a-85e5-dd6570620018",
   "metadata": {},
   "source": [
    "#### Although 95.79% of orders arrive without delay, the average delivery time of 10 days remains high nowadays."
   ]
  },
  {
   "cell_type": "markdown",
   "id": "4d627edf-089a-4304-9521-2d46d13b33c5",
   "metadata": {},
   "source": [
    "#### Calculate the percentage of delayed delivery"
   ]
  },
  {
   "cell_type": "code",
   "execution_count": 210,
   "id": "c00d8623-0773-4dd9-a114-0ca15f841dc8",
   "metadata": {},
   "outputs": [
    {
     "name": "stdout",
     "output_type": "stream",
     "text": [
      "The percentage of delivery delayed is 4.21%\n"
     ]
    }
   ],
   "source": [
    "number_delayed_delivery = orders_df_filtered[orders_df_filtered['order_delivered_customer_date'] > orders_df_filtered['order_estimated_delivery_date']].shape[0]\n",
    "total_orders = orders_df_filtered.shape[0]   \n",
    "print(f\"The percentage of delivery delayed is {100*number_delayed_delivery/total_orders:.2f}%\")"
   ]
  },
  {
   "cell_type": "code",
   "execution_count": 230,
   "id": "35edcba6-918a-43e3-836a-43c7a28d6e8b",
   "metadata": {},
   "outputs": [],
   "source": [
    "# Build a function to create a new column of delivery types\n",
    "def get_delivery_type(df):\n",
    "    if df['order_status'] == 'delivered':\n",
    "        if df['order_delivered_customer_date'] > df['order_estimated_delivery_date']:\n",
    "            return 'delayed'\n",
    "        elif df['order_delivered_customer_date'] < df['order_estimated_delivery_date']:\n",
    "            return 'on-schedule'\n",
    "        elif df['order_delivered_customer_date'] == df['order_estimated_delivery_date']:\n",
    "            return 'on-time'\n",
    "    return 'canceled'\n",
    "    "
   ]
  },
  {
   "cell_type": "code",
   "execution_count": 231,
   "id": "bad25910-695b-4590-aa0e-e813301854b3",
   "metadata": {},
   "outputs": [
    {
     "data": {
      "text/html": [
       "<div>\n",
       "<style scoped>\n",
       "    .dataframe tbody tr th:only-of-type {\n",
       "        vertical-align: middle;\n",
       "    }\n",
       "\n",
       "    .dataframe tbody tr th {\n",
       "        vertical-align: top;\n",
       "    }\n",
       "\n",
       "    .dataframe thead th {\n",
       "        text-align: right;\n",
       "    }\n",
       "</style>\n",
       "<table border=\"1\" class=\"dataframe\">\n",
       "  <thead>\n",
       "    <tr style=\"text-align: right;\">\n",
       "      <th></th>\n",
       "      <th>order_id</th>\n",
       "      <th>customer_id</th>\n",
       "      <th>order_status</th>\n",
       "      <th>order_purchase_timestamp</th>\n",
       "      <th>order_approved_at</th>\n",
       "      <th>order_delivered_carrier_date</th>\n",
       "      <th>order_delivered_customer_date</th>\n",
       "      <th>order_estimated_delivery_date</th>\n",
       "      <th>delivery_time</th>\n",
       "      <th>delivery_type</th>\n",
       "    </tr>\n",
       "  </thead>\n",
       "  <tbody>\n",
       "    <tr>\n",
       "      <th>0</th>\n",
       "      <td>00010242fe8c5a6d1ba2dd792cb16214</td>\n",
       "      <td>3ce436f183e68e07877b285a838db11a</td>\n",
       "      <td>delivered</td>\n",
       "      <td>2017-09-13 10:59:02</td>\n",
       "      <td>2017-09-13 11:45:35</td>\n",
       "      <td>2017-09-19 20:34:16</td>\n",
       "      <td>2017-09-21 01:43:48</td>\n",
       "      <td>2017-09-29 02:00:00</td>\n",
       "      <td>7.0</td>\n",
       "      <td>on-schedule</td>\n",
       "    </tr>\n",
       "    <tr>\n",
       "      <th>1</th>\n",
       "      <td>00018f77f2f0320c557190d7a144bdd3</td>\n",
       "      <td>f6dd3ec061db4e3987629fe6b26e5cce</td>\n",
       "      <td>delivered</td>\n",
       "      <td>2017-04-26 12:53:06</td>\n",
       "      <td>2017-04-26 13:05:13</td>\n",
       "      <td>2017-05-04 16:35:00</td>\n",
       "      <td>2017-05-12 18:04:24</td>\n",
       "      <td>2017-05-15 02:00:00</td>\n",
       "      <td>16.0</td>\n",
       "      <td>on-schedule</td>\n",
       "    </tr>\n",
       "  </tbody>\n",
       "</table>\n",
       "</div>"
      ],
      "text/plain": [
       "                           order_id                       customer_id  \\\n",
       "0  00010242fe8c5a6d1ba2dd792cb16214  3ce436f183e68e07877b285a838db11a   \n",
       "1  00018f77f2f0320c557190d7a144bdd3  f6dd3ec061db4e3987629fe6b26e5cce   \n",
       "\n",
       "  order_status order_purchase_timestamp   order_approved_at  \\\n",
       "0    delivered      2017-09-13 10:59:02 2017-09-13 11:45:35   \n",
       "1    delivered      2017-04-26 12:53:06 2017-04-26 13:05:13   \n",
       "\n",
       "  order_delivered_carrier_date order_delivered_customer_date  \\\n",
       "0          2017-09-19 20:34:16           2017-09-21 01:43:48   \n",
       "1          2017-05-04 16:35:00           2017-05-12 18:04:24   \n",
       "\n",
       "  order_estimated_delivery_date  delivery_time delivery_type  \n",
       "0           2017-09-29 02:00:00            7.0   on-schedule  \n",
       "1           2017-05-15 02:00:00           16.0   on-schedule  "
      ]
     },
     "execution_count": 231,
     "metadata": {},
     "output_type": "execute_result"
    }
   ],
   "source": [
    "# apply the function to the dataframe\n",
    "orders_df_filtered['delivery_type']=orders_df_filtered.apply(get_delivery_type , axis=1)\n",
    "orders_df_filtered.head(2)"
   ]
  },
  {
   "cell_type": "code",
   "execution_count": 233,
   "id": "15caff75-4467-423a-91e0-735beea25f7c",
   "metadata": {},
   "outputs": [],
   "source": [
    "delivery_type_counts = orders_df_filtered['delivery_type'].value_counts()"
   ]
  },
  {
   "cell_type": "code",
   "execution_count": 236,
   "id": "b6428b5f-d777-4a20-85a1-44cb8accb15d",
   "metadata": {},
   "outputs": [
    {
     "data": {
      "image/png": "[encoded data removed]",
      "text/plain": [
       "<Figure size 400x400 with 1 Axes>"
      ]
     },
     "metadata": {},
     "output_type": "display_data"
    }
   ],
   "source": [
    "# plot a pie chart for delivery\n",
    "plt.figure(figsize=(4,4), dpi=100)\n",
    "plt.pie(delivery_type_counts, labels=delivery_type_counts.index, autopct='%1.1f%%')\n",
    "plt.title('Delivery Type Distribution')\n",
    "plt.tight_layout();"
   ]
  },
  {
   "cell_type": "markdown",
   "id": "41dfa5fe-5822-4645-92eb-95421165ca82",
   "metadata": {},
   "source": [
    "---"
   ]
  },
  {
   "cell_type": "markdown",
   "id": "c35f024f-cfba-4f81-8147-fef674c34a2d",
   "metadata": {},
   "source": [
    "### 3.6. Is there any pattern for delayed orders, e.g. big products being delayed more often?"
   ]
  },
  {
   "cell_type": "code",
   "execution_count": 212,
   "id": "390733f0-f3ae-45c7-98cc-d1f1f14de1a0",
   "metadata": {},
   "outputs": [
    {
     "data": {
      "text/html": [
       "<div>\n",
       "<style scoped>\n",
       "    .dataframe tbody tr th:only-of-type {\n",
       "        vertical-align: middle;\n",
       "    }\n",
       "\n",
       "    .dataframe tbody tr th {\n",
       "        vertical-align: top;\n",
       "    }\n",
       "\n",
       "    .dataframe thead th {\n",
       "        text-align: right;\n",
       "    }\n",
       "</style>\n",
       "<table border=\"1\" class=\"dataframe\">\n",
       "  <thead>\n",
       "    <tr style=\"text-align: right;\">\n",
       "      <th></th>\n",
       "      <th>order_id</th>\n",
       "      <th>customer_id</th>\n",
       "      <th>order_status</th>\n",
       "      <th>order_purchase_timestamp</th>\n",
       "      <th>order_approved_at</th>\n",
       "      <th>order_delivered_carrier_date</th>\n",
       "      <th>order_delivered_customer_date</th>\n",
       "      <th>order_estimated_delivery_date</th>\n",
       "      <th>delivery_time</th>\n",
       "    </tr>\n",
       "  </thead>\n",
       "  <tbody>\n",
       "    <tr>\n",
       "      <th>0</th>\n",
       "      <td>00010242fe8c5a6d1ba2dd792cb16214</td>\n",
       "      <td>3ce436f183e68e07877b285a838db11a</td>\n",
       "      <td>delivered</td>\n",
       "      <td>2017-09-13 10:59:02</td>\n",
       "      <td>2017-09-13 11:45:35</td>\n",
       "      <td>2017-09-19 20:34:16</td>\n",
       "      <td>2017-09-21 01:43:48</td>\n",
       "      <td>2017-09-29 02:00:00</td>\n",
       "      <td>7.0</td>\n",
       "    </tr>\n",
       "    <tr>\n",
       "      <th>1</th>\n",
       "      <td>00018f77f2f0320c557190d7a144bdd3</td>\n",
       "      <td>f6dd3ec061db4e3987629fe6b26e5cce</td>\n",
       "      <td>delivered</td>\n",
       "      <td>2017-04-26 12:53:06</td>\n",
       "      <td>2017-04-26 13:05:13</td>\n",
       "      <td>2017-05-04 16:35:00</td>\n",
       "      <td>2017-05-12 18:04:24</td>\n",
       "      <td>2017-05-15 02:00:00</td>\n",
       "      <td>16.0</td>\n",
       "    </tr>\n",
       "  </tbody>\n",
       "</table>\n",
       "</div>"
      ],
      "text/plain": [
       "                           order_id                       customer_id  \\\n",
       "0  00010242fe8c5a6d1ba2dd792cb16214  3ce436f183e68e07877b285a838db11a   \n",
       "1  00018f77f2f0320c557190d7a144bdd3  f6dd3ec061db4e3987629fe6b26e5cce   \n",
       "\n",
       "  order_status order_purchase_timestamp   order_approved_at  \\\n",
       "0    delivered      2017-09-13 10:59:02 2017-09-13 11:45:35   \n",
       "1    delivered      2017-04-26 12:53:06 2017-04-26 13:05:13   \n",
       "\n",
       "  order_delivered_carrier_date order_delivered_customer_date  \\\n",
       "0          2017-09-19 20:34:16           2017-09-21 01:43:48   \n",
       "1          2017-05-04 16:35:00           2017-05-12 18:04:24   \n",
       "\n",
       "  order_estimated_delivery_date  delivery_time  \n",
       "0           2017-09-29 02:00:00            7.0  \n",
       "1           2017-05-15 02:00:00           16.0  "
      ]
     },
     "execution_count": 212,
     "metadata": {},
     "output_type": "execute_result"
    }
   ],
   "source": [
    "orders_df_filtered.head(2)"
   ]
  },
  {
   "cell_type": "code",
   "execution_count": 214,
   "id": "5e36781d-40a1-410b-9d7e-de99c02bdd9e",
   "metadata": {},
   "outputs": [
    {
     "data": {
      "text/html": [
       "<div>\n",
       "<style scoped>\n",
       "    .dataframe tbody tr th:only-of-type {\n",
       "        vertical-align: middle;\n",
       "    }\n",
       "\n",
       "    .dataframe tbody tr th {\n",
       "        vertical-align: top;\n",
       "    }\n",
       "\n",
       "    .dataframe thead th {\n",
       "        text-align: right;\n",
       "    }\n",
       "</style>\n",
       "<table border=\"1\" class=\"dataframe\">\n",
       "  <thead>\n",
       "    <tr style=\"text-align: right;\">\n",
       "      <th></th>\n",
       "      <th>product_id</th>\n",
       "      <th>product_name_length</th>\n",
       "      <th>product_description_length</th>\n",
       "      <th>product_photos_qty</th>\n",
       "      <th>product_weight_g</th>\n",
       "      <th>product_length_cm</th>\n",
       "      <th>product_height_cm</th>\n",
       "      <th>product_width_cm</th>\n",
       "      <th>product_category_name</th>\n",
       "      <th>product_volume_cm3</th>\n",
       "    </tr>\n",
       "  </thead>\n",
       "  <tbody>\n",
       "    <tr>\n",
       "      <th>0</th>\n",
       "      <td>00066f42aeeb9f3007548bb9d3f33c38</td>\n",
       "      <td>53</td>\n",
       "      <td>596</td>\n",
       "      <td>6</td>\n",
       "      <td>300</td>\n",
       "      <td>20</td>\n",
       "      <td>16</td>\n",
       "      <td>16</td>\n",
       "      <td>perfumery</td>\n",
       "      <td>5120</td>\n",
       "    </tr>\n",
       "    <tr>\n",
       "      <th>1</th>\n",
       "      <td>00088930e925c41fd95ebfe695fd2655</td>\n",
       "      <td>56</td>\n",
       "      <td>752</td>\n",
       "      <td>4</td>\n",
       "      <td>1225</td>\n",
       "      <td>55</td>\n",
       "      <td>10</td>\n",
       "      <td>26</td>\n",
       "      <td>auto</td>\n",
       "      <td>14300</td>\n",
       "    </tr>\n",
       "  </tbody>\n",
       "</table>\n",
       "</div>"
      ],
      "text/plain": [
       "                         product_id  product_name_length  \\\n",
       "0  00066f42aeeb9f3007548bb9d3f33c38                   53   \n",
       "1  00088930e925c41fd95ebfe695fd2655                   56   \n",
       "\n",
       "   product_description_length  product_photos_qty  product_weight_g  \\\n",
       "0                         596                   6               300   \n",
       "1                         752                   4              1225   \n",
       "\n",
       "   product_length_cm  product_height_cm  product_width_cm  \\\n",
       "0                 20                 16                16   \n",
       "1                 55                 10                26   \n",
       "\n",
       "  product_category_name  product_volume_cm3  \n",
       "0             perfumery                5120  \n",
       "1                  auto               14300  "
      ]
     },
     "execution_count": 214,
     "metadata": {},
     "output_type": "execute_result"
    }
   ],
   "source": [
    "translated_products_df.head(2)"
   ]
  },
  {
   "cell_type": "code",
   "execution_count": 216,
   "id": "93784bbb-7cae-4325-95c3-a22761082e9b",
   "metadata": {},
   "outputs": [
    {
     "data": {
      "text/html": [
       "<div>\n",
       "<style scoped>\n",
       "    .dataframe tbody tr th:only-of-type {\n",
       "        vertical-align: middle;\n",
       "    }\n",
       "\n",
       "    .dataframe tbody tr th {\n",
       "        vertical-align: top;\n",
       "    }\n",
       "\n",
       "    .dataframe thead th {\n",
       "        text-align: right;\n",
       "    }\n",
       "</style>\n",
       "<table border=\"1\" class=\"dataframe\">\n",
       "  <thead>\n",
       "    <tr style=\"text-align: right;\">\n",
       "      <th></th>\n",
       "      <th>order_id</th>\n",
       "      <th>order_item_id</th>\n",
       "      <th>product_id</th>\n",
       "      <th>seller_id</th>\n",
       "      <th>shipping_limit_date</th>\n",
       "      <th>price</th>\n",
       "      <th>freight_value</th>\n",
       "    </tr>\n",
       "  </thead>\n",
       "  <tbody>\n",
       "    <tr>\n",
       "      <th>0</th>\n",
       "      <td>00010242fe8c5a6d1ba2dd792cb16214</td>\n",
       "      <td>1</td>\n",
       "      <td>4244733e06e7ecb4970a6e2683c13e61</td>\n",
       "      <td>48436dade18ac8b2bce089ec2a041202</td>\n",
       "      <td>2017-09-19 11:45:35</td>\n",
       "      <td>58.9</td>\n",
       "      <td>13.29</td>\n",
       "    </tr>\n",
       "    <tr>\n",
       "      <th>1</th>\n",
       "      <td>00018f77f2f0320c557190d7a144bdd3</td>\n",
       "      <td>1</td>\n",
       "      <td>e5f2d52b802189ee658865ca93d83a8f</td>\n",
       "      <td>dd7ddc04e1b6c2c614352b383efe2d36</td>\n",
       "      <td>2017-05-03 13:05:13</td>\n",
       "      <td>239.9</td>\n",
       "      <td>19.93</td>\n",
       "    </tr>\n",
       "  </tbody>\n",
       "</table>\n",
       "</div>"
      ],
      "text/plain": [
       "                           order_id  order_item_id  \\\n",
       "0  00010242fe8c5a6d1ba2dd792cb16214              1   \n",
       "1  00018f77f2f0320c557190d7a144bdd3              1   \n",
       "\n",
       "                         product_id                         seller_id  \\\n",
       "0  4244733e06e7ecb4970a6e2683c13e61  48436dade18ac8b2bce089ec2a041202   \n",
       "1  e5f2d52b802189ee658865ca93d83a8f  dd7ddc04e1b6c2c614352b383efe2d36   \n",
       "\n",
       "  shipping_limit_date  price  freight_value  \n",
       "0 2017-09-19 11:45:35   58.9          13.29  \n",
       "1 2017-05-03 13:05:13  239.9          19.93  "
      ]
     },
     "execution_count": 216,
     "metadata": {},
     "output_type": "execute_result"
    }
   ],
   "source": [
    "order_items_df.head(2)"
   ]
  },
  {
   "cell_type": "code",
   "execution_count": 217,
   "id": "f1c590b7-ebdb-4b0f-af08-3e04dcb5bd81",
   "metadata": {},
   "outputs": [],
   "source": [
    "# calculate the volume of products\n",
    "translated_products_df['product_volume_cm3'] = (\n",
    "    translated_products_df['product_length_cm'] *\n",
    "    translated_products_df['product_height_cm'] *\n",
    "    translated_products_df['product_width_cm']\n",
    ")\n",
    "\n",
    "# merge three dataframes (orders_df, order_items_df and translated_products_df)\n",
    "\n",
    "merged_orders_ordersitems = pd.merge(orders_df_filtered, order_items_df, on='order_id', how='left')\n",
    "merged_orders_orderitems_products = pd.merge(merged_orders_ordersitems, translated_products_df, on= 'product_id', how='left')\n"
   ]
  },
  {
   "cell_type": "code",
   "execution_count": 218,
   "id": "4f0c5c17-e7d4-4db2-8826-5dc16830e0eb",
   "metadata": {},
   "outputs": [
    {
     "data": {
      "image/png": "[encoded data removed]",
      "text/plain": [
       "<Figure size 640x480 with 1 Axes>"
      ]
     },
     "metadata": {},
     "output_type": "display_data"
    }
   ],
   "source": [
    "# Using Scatterplot to see the correlation\n",
    "\n",
    "sns.scatterplot(data=merged_orders_orderitems_products, x='product_volume_cm3', y='delivery_time')\n",
    "plt.xlabel('Package Volume (cm³)')\n",
    "plt.ylabel('Delivery Time (days)')\n",
    "plt.title('Delivery Time vs Package Size')\n",
    "plt.show()\n"
   ]
  },
  {
   "cell_type": "markdown",
   "id": "60678a20-d020-4bbc-9130-e94bc4d54240",
   "metadata": {},
   "source": [
    "#### It gives us almost nothing, let's explore more!"
   ]
  },
  {
   "cell_type": "code",
   "execution_count": 223,
   "id": "e44b6abe-7222-480c-af15-2374b98f8a98",
   "metadata": {},
   "outputs": [],
   "source": [
    "# build a function to categorize the size of products\n",
    "def get_size_category(v):\n",
    "    if v >200000:\n",
    "        return 'L'\n",
    "    elif v > 100000:\n",
    "        return 'M'\n",
    "    elif v>50000:\n",
    "        return 'S'\n",
    "    else:\n",
    "        return 'XS'\n",
    "\n",
    "merged_orders_orderitems_products.loc[:,'size_category'] = merged_orders_orderitems_products.loc[:,'product_volume_cm3'].apply(get_size_category)\n",
    "   "
   ]
  },
  {
   "cell_type": "code",
   "execution_count": 225,
   "id": "1f19fea4-d499-4060-82bd-eb739bec216d",
   "metadata": {},
   "outputs": [
    {
     "data": {
      "image/png": "[encoded data removed]",
      "text/plain": [
       "<Figure size 640x480 with 1 Axes>"
      ]
     },
     "metadata": {},
     "output_type": "display_data"
    }
   ],
   "source": [
    "# After categorizing the size, violinplot is being used to see the correlation between delivery time and size\n",
    "\n",
    "sns.violinplot(data=merged_orders_orderitems_products, x='size_category', y='delivery_time', hue='size_category')\n",
    "plt.xlabel('Package Volume (cm³)')\n",
    "plt.ylabel('Delivery Time (days)')\n",
    "plt.title('Delivery Time vs Package Size')\n",
    "plt.show()\n"
   ]
  },
  {
   "cell_type": "markdown",
   "id": "724bf793-d05a-4a13-8688-a90e282984bb",
   "metadata": {},
   "source": [
    "#### Package size appears to influence delivery time. Larger packages (size category L) tend to have significantly longer delivery times. This suggests that package volume should be considered when evaluating delivery efficiency and customer satisfaction."
   ]
  },
  {
   "cell_type": "markdown",
   "id": "01524b5d-35ff-497e-a8aa-e095fef1d7fe",
   "metadata": {},
   "source": [
    "## 3.7.Regional Concentration of Customers and sellers"
   ]
  },
  {
   "cell_type": "code",
   "execution_count": 254,
   "id": "6a0f5ef1-bac9-461d-99f2-adc90db271d1",
   "metadata": {},
   "outputs": [
    {
     "data": {
      "text/plain": [
       "(112650, 7)"
      ]
     },
     "execution_count": 254,
     "metadata": {},
     "output_type": "execute_result"
    }
   ],
   "source": [
    "order_items_df.shape"
   ]
  },
  {
   "cell_type": "code",
   "execution_count": 258,
   "id": "581ca7e4-fd70-4170-9de5-f99c5d87a9bc",
   "metadata": {},
   "outputs": [
    {
     "data": {
      "text/html": [
       "<div>\n",
       "<style scoped>\n",
       "    .dataframe tbody tr th:only-of-type {\n",
       "        vertical-align: middle;\n",
       "    }\n",
       "\n",
       "    .dataframe tbody tr th {\n",
       "        vertical-align: top;\n",
       "    }\n",
       "\n",
       "    .dataframe thead th {\n",
       "        text-align: right;\n",
       "    }\n",
       "</style>\n",
       "<table border=\"1\" class=\"dataframe\">\n",
       "  <thead>\n",
       "    <tr style=\"text-align: right;\">\n",
       "      <th></th>\n",
       "      <th>order_id</th>\n",
       "      <th>order_item_id</th>\n",
       "      <th>product_id</th>\n",
       "      <th>seller_id</th>\n",
       "      <th>shipping_limit_date</th>\n",
       "      <th>price</th>\n",
       "      <th>freight_value</th>\n",
       "    </tr>\n",
       "  </thead>\n",
       "  <tbody>\n",
       "    <tr>\n",
       "      <th>0</th>\n",
       "      <td>00010242fe8c5a6d1ba2dd792cb16214</td>\n",
       "      <td>1</td>\n",
       "      <td>4244733e06e7ecb4970a6e2683c13e61</td>\n",
       "      <td>48436dade18ac8b2bce089ec2a041202</td>\n",
       "      <td>2017-09-19 11:45:35</td>\n",
       "      <td>58.9</td>\n",
       "      <td>13.29</td>\n",
       "    </tr>\n",
       "    <tr>\n",
       "      <th>1</th>\n",
       "      <td>00018f77f2f0320c557190d7a144bdd3</td>\n",
       "      <td>1</td>\n",
       "      <td>e5f2d52b802189ee658865ca93d83a8f</td>\n",
       "      <td>dd7ddc04e1b6c2c614352b383efe2d36</td>\n",
       "      <td>2017-05-03 13:05:13</td>\n",
       "      <td>239.9</td>\n",
       "      <td>19.93</td>\n",
       "    </tr>\n",
       "  </tbody>\n",
       "</table>\n",
       "</div>"
      ],
      "text/plain": [
       "                           order_id  order_item_id  \\\n",
       "0  00010242fe8c5a6d1ba2dd792cb16214              1   \n",
       "1  00018f77f2f0320c557190d7a144bdd3              1   \n",
       "\n",
       "                         product_id                         seller_id  \\\n",
       "0  4244733e06e7ecb4970a6e2683c13e61  48436dade18ac8b2bce089ec2a041202   \n",
       "1  e5f2d52b802189ee658865ca93d83a8f  dd7ddc04e1b6c2c614352b383efe2d36   \n",
       "\n",
       "  shipping_limit_date  price  freight_value  \n",
       "0 2017-09-19 11:45:35   58.9          13.29  \n",
       "1 2017-05-03 13:05:13  239.9          19.93  "
      ]
     },
     "execution_count": 258,
     "metadata": {},
     "output_type": "execute_result"
    }
   ],
   "source": [
    "order_items_df.head(2)"
   ]
  },
  {
   "cell_type": "code",
   "execution_count": 259,
   "id": "11a96429-e9ad-450f-81fa-1aec6d17f660",
   "metadata": {},
   "outputs": [],
   "source": [
    "# merge seller dataframe to order_items_df to have the zip code of sellers in the df\n",
    "merged_orderitems_sellers = pd.merge(order_items_df, sellers_df, on='seller_id', how='left')"
   ]
  },
  {
   "cell_type": "code",
   "execution_count": 260,
   "id": "a349a494-66b3-4588-8da4-cd55b01ca7b1",
   "metadata": {},
   "outputs": [],
   "source": [
    "# merge customer dataframe to orders_df_filtered to have the zip code of customers in the df\n",
    "merged_orders_customers = pd.merge(orders_df_filtered, customers_df, on='customer_id', how='left')"
   ]
  },
  {
   "cell_type": "code",
   "execution_count": 283,
   "id": "fbef88ab-b38d-4fb9-86d6-1af3a111e9da",
   "metadata": {},
   "outputs": [],
   "source": [
    "# merge the both dataframe above to have the zip codes of sellers and customers in the orders dataframes\n",
    "merged =pd.merge(merged_orderitems_sellers, merged_orders_customers, on ='order_id', how='left')"
   ]
  },
  {
   "cell_type": "code",
   "execution_count": 284,
   "id": "47317216-a8b4-49ad-ac09-f99b810570c0",
   "metadata": {},
   "outputs": [
    {
     "data": {
      "text/html": [
       "<div>\n",
       "<style scoped>\n",
       "    .dataframe tbody tr th:only-of-type {\n",
       "        vertical-align: middle;\n",
       "    }\n",
       "\n",
       "    .dataframe tbody tr th {\n",
       "        vertical-align: top;\n",
       "    }\n",
       "\n",
       "    .dataframe thead th {\n",
       "        text-align: right;\n",
       "    }\n",
       "</style>\n",
       "<table border=\"1\" class=\"dataframe\">\n",
       "  <thead>\n",
       "    <tr style=\"text-align: right;\">\n",
       "      <th></th>\n",
       "      <th>order_id</th>\n",
       "      <th>order_item_id</th>\n",
       "      <th>product_id</th>\n",
       "      <th>seller_id</th>\n",
       "      <th>shipping_limit_date</th>\n",
       "      <th>price</th>\n",
       "      <th>freight_value</th>\n",
       "      <th>seller_zip_code_prefix</th>\n",
       "      <th>customer_id</th>\n",
       "      <th>order_status</th>\n",
       "      <th>order_purchase_timestamp</th>\n",
       "      <th>order_approved_at</th>\n",
       "      <th>order_delivered_carrier_date</th>\n",
       "      <th>order_delivered_customer_date</th>\n",
       "      <th>order_estimated_delivery_date</th>\n",
       "      <th>delivery_time</th>\n",
       "      <th>delivery_type</th>\n",
       "      <th>customer_zip_code_prefix</th>\n",
       "    </tr>\n",
       "  </thead>\n",
       "  <tbody>\n",
       "    <tr>\n",
       "      <th>0</th>\n",
       "      <td>00010242fe8c5a6d1ba2dd792cb16214</td>\n",
       "      <td>1</td>\n",
       "      <td>4244733e06e7ecb4970a6e2683c13e61</td>\n",
       "      <td>48436dade18ac8b2bce089ec2a041202</td>\n",
       "      <td>2017-09-19 11:45:35</td>\n",
       "      <td>58.9</td>\n",
       "      <td>13.29</td>\n",
       "      <td>27277</td>\n",
       "      <td>3ce436f183e68e07877b285a838db11a</td>\n",
       "      <td>delivered</td>\n",
       "      <td>2017-09-13 10:59:02</td>\n",
       "      <td>2017-09-13 11:45:35</td>\n",
       "      <td>2017-09-19 20:34:16</td>\n",
       "      <td>2017-09-21 01:43:48</td>\n",
       "      <td>2017-09-29 02:00:00</td>\n",
       "      <td>7.0</td>\n",
       "      <td>on-schedule</td>\n",
       "      <td>28013.0</td>\n",
       "    </tr>\n",
       "    <tr>\n",
       "      <th>1</th>\n",
       "      <td>00018f77f2f0320c557190d7a144bdd3</td>\n",
       "      <td>1</td>\n",
       "      <td>e5f2d52b802189ee658865ca93d83a8f</td>\n",
       "      <td>dd7ddc04e1b6c2c614352b383efe2d36</td>\n",
       "      <td>2017-05-03 13:05:13</td>\n",
       "      <td>239.9</td>\n",
       "      <td>19.93</td>\n",
       "      <td>3471</td>\n",
       "      <td>f6dd3ec061db4e3987629fe6b26e5cce</td>\n",
       "      <td>delivered</td>\n",
       "      <td>2017-04-26 12:53:06</td>\n",
       "      <td>2017-04-26 13:05:13</td>\n",
       "      <td>2017-05-04 16:35:00</td>\n",
       "      <td>2017-05-12 18:04:24</td>\n",
       "      <td>2017-05-15 02:00:00</td>\n",
       "      <td>16.0</td>\n",
       "      <td>on-schedule</td>\n",
       "      <td>15775.0</td>\n",
       "    </tr>\n",
       "  </tbody>\n",
       "</table>\n",
       "</div>"
      ],
      "text/plain": [
       "                           order_id  order_item_id  \\\n",
       "0  00010242fe8c5a6d1ba2dd792cb16214              1   \n",
       "1  00018f77f2f0320c557190d7a144bdd3              1   \n",
       "\n",
       "                         product_id                         seller_id  \\\n",
       "0  4244733e06e7ecb4970a6e2683c13e61  48436dade18ac8b2bce089ec2a041202   \n",
       "1  e5f2d52b802189ee658865ca93d83a8f  dd7ddc04e1b6c2c614352b383efe2d36   \n",
       "\n",
       "  shipping_limit_date  price  freight_value  seller_zip_code_prefix  \\\n",
       "0 2017-09-19 11:45:35   58.9          13.29                   27277   \n",
       "1 2017-05-03 13:05:13  239.9          19.93                    3471   \n",
       "\n",
       "                        customer_id order_status order_purchase_timestamp  \\\n",
       "0  3ce436f183e68e07877b285a838db11a    delivered      2017-09-13 10:59:02   \n",
       "1  f6dd3ec061db4e3987629fe6b26e5cce    delivered      2017-04-26 12:53:06   \n",
       "\n",
       "    order_approved_at order_delivered_carrier_date  \\\n",
       "0 2017-09-13 11:45:35          2017-09-19 20:34:16   \n",
       "1 2017-04-26 13:05:13          2017-05-04 16:35:00   \n",
       "\n",
       "  order_delivered_customer_date order_estimated_delivery_date  delivery_time  \\\n",
       "0           2017-09-21 01:43:48           2017-09-29 02:00:00            7.0   \n",
       "1           2017-05-12 18:04:24           2017-05-15 02:00:00           16.0   \n",
       "\n",
       "  delivery_type  customer_zip_code_prefix  \n",
       "0   on-schedule                   28013.0  \n",
       "1   on-schedule                   15775.0  "
      ]
     },
     "execution_count": 284,
     "metadata": {},
     "output_type": "execute_result"
    }
   ],
   "source": [
    "merged.head(2)"
   ]
  },
  {
   "cell_type": "code",
   "execution_count": 294,
   "id": "028424d9-5104-4989-90e9-e6cdb2003d4f",
   "metadata": {},
   "outputs": [],
   "source": [
    "# Filter out NaNs just for plotting\n",
    "plot_df = merged.dropna(subset=['customer_zip_code_prefix', 'seller_zip_code_prefix']).copy()\n",
    "\n",
    "# convert the datatype of zipcodes for customers into ont(just like seller's)\n",
    "plot_df['customer_zip_code_prefix'] = plot_df['customer_zip_code_prefix'].astype(int)\n"
   ]
  },
  {
   "cell_type": "code",
   "execution_count": 309,
   "id": "69204741-8462-4d0d-8e9f-ecd55635e1c1",
   "metadata": {},
   "outputs": [
    {
     "data": {
      "image/png": "[encoded data removed]",
      "text/plain": [
       "<Figure size 800x500 with 1 Axes>"
      ]
     },
     "metadata": {},
     "output_type": "display_data"
    }
   ],
   "source": [
    "plt.figure(figsize=(8,5))\n",
    "sns.histplot(data=plot_df , x='customer_zip_code_prefix',color='skyblue', label='Orders')  # Since Customers are not unique here, it represent the number of orders\n",
    "sns.histplot(data=customers_df , x='customer_zip_code_prefix', color='orange', label='Customers', alpha=0.5)  # Customers are unique(imported from Customers_df)\n",
    "plt.xlabel('Zip Code')\n",
    "plt.ylabel('Count')\n",
    "plt.title('Customer Perfomance by location')\n",
    "plt.legend();"
   ]
  },
  {
   "cell_type": "code",
   "execution_count": 310,
   "id": "42bbf8de-a6e4-4286-a1d2-6ad1e85be681",
   "metadata": {},
   "outputs": [
    {
     "data": {
      "image/png": "[encoded data removed]",
      "text/plain": [
       "<Figure size 800x500 with 1 Axes>"
      ]
     },
     "metadata": {},
     "output_type": "display_data"
    }
   ],
   "source": [
    "plt.figure(figsize=(8,5))\n",
    "sns.histplot(data=plot_df , x='seller_zip_code_prefix',color='skyblue', label='Orders')   # Since sellers are not unique here, they represent the number of their appearance in the dataframe, which shows their activities\n",
    "sns.histplot(data=sellers_df , x='seller_zip_code_prefix', color='orange', label='Sellers')  # Sellers are unique(imported from sellers_df)\n",
    "plt.xlabel('Zip Code')\n",
    "plt.ylabel('Count')\n",
    "plt.title('Sellers Perfomance by location')\n",
    "plt.legend();"
   ]
  },
  {
   "cell_type": "code",
   "execution_count": 311,
   "id": "0eddcac5-ad84-462a-a5af-6b4b057c910b",
   "metadata": {},
   "outputs": [
    {
     "data": {
      "text/plain": [
       "customer_zip_code_prefix\n",
       "22790    129\n",
       "24220    128\n",
       "24230    126\n",
       "29101    107\n",
       "35162    107\n",
       "22793    106\n",
       "22775    106\n",
       "13087    102\n",
       "13212    101\n",
       "36570     99\n",
       "Name: count, dtype: int64"
      ]
     },
     "execution_count": 311,
     "metadata": {},
     "output_type": "execute_result"
    }
   ],
   "source": [
    "# Most Active Regions by Number of Orders\n",
    "plot_df['customer_zip_code_prefix'].value_counts().nlargest(10)"
   ]
  },
  {
   "cell_type": "code",
   "execution_count": 313,
   "id": "b42286bb-0462-434a-99f3-57f00f5e95a8",
   "metadata": {},
   "outputs": [
    {
     "name": "stdout",
     "output_type": "stream",
     "text": [
      "Collecting pgeocode\n",
      "  Using cached pgeocode-0.5.0-py3-none-any.whl.metadata (7.9 kB)\n",
      "Requirement already satisfied: requests in c:\\users\\fariba\\anaconda3\\lib\\site-packages (from pgeocode) (2.32.3)\n",
      "Requirement already satisfied: numpy in c:\\users\\fariba\\anaconda3\\lib\\site-packages (from pgeocode) (1.26.4)\n",
      "Requirement already satisfied: pandas in c:\\users\\fariba\\anaconda3\\lib\\site-packages (from pgeocode) (2.2.2)\n",
      "Requirement already satisfied: python-dateutil>=2.8.2 in c:\\users\\fariba\\anaconda3\\lib\\site-packages (from pandas->pgeocode) (2.9.0.post0)\n",
      "Requirement already satisfied: pytz>=2020.1 in c:\\users\\fariba\\anaconda3\\lib\\site-packages (from pandas->pgeocode) (2024.1)\n",
      "Requirement already satisfied: tzdata>=2022.7 in c:\\users\\fariba\\anaconda3\\lib\\site-packages (from pandas->pgeocode) (2023.3)\n",
      "Requirement already satisfied: charset-normalizer<4,>=2 in c:\\users\\fariba\\anaconda3\\lib\\site-packages (from requests->pgeocode) (3.3.2)\n",
      "Requirement already satisfied: idna<4,>=2.5 in c:\\users\\fariba\\anaconda3\\lib\\site-packages (from requests->pgeocode) (3.7)\n",
      "Requirement already satisfied: urllib3<3,>=1.21.1 in c:\\users\\fariba\\anaconda3\\lib\\site-packages (from requests->pgeocode) (2.2.3)\n",
      "Requirement already satisfied: certifi>=2017.4.17 in c:\\users\\fariba\\anaconda3\\lib\\site-packages (from requests->pgeocode) (2025.4.26)\n",
      "Requirement already satisfied: six>=1.5 in c:\\users\\fariba\\anaconda3\\lib\\site-packages (from python-dateutil>=2.8.2->pandas->pgeocode) (1.16.0)\n",
      "Using cached pgeocode-0.5.0-py3-none-any.whl (9.8 kB)\n",
      "Installing collected packages: pgeocode\n",
      "Successfully installed pgeocode-0.5.0\n"
     ]
    }
   ],
   "source": [
    "!pip install pgeocode"
   ]
  },
  {
   "cell_type": "code",
   "execution_count": 317,
   "id": "72f96098-9b53-4f0b-8c9f-61558653fe5f",
   "metadata": {},
   "outputs": [
    {
     "name": "stdout",
     "output_type": "stream",
     "text": [
      "   zip_code  count zip_code_full place_name state_name\n",
      "0     22790    129      22790000        NaN        NaN\n",
      "1     24220    128      24220000        NaN        NaN\n",
      "2     24230    126      24230000        NaN        NaN\n",
      "3     29101    107      29101000        NaN        NaN\n",
      "4     35162    107      35162000        NaN        NaN\n",
      "5     22793    106      22793000        NaN        NaN\n",
      "6     22775    106      22775000        NaN        NaN\n",
      "7     13087    102      13087000        NaN        NaN\n",
      "8     13212    101      13212000        NaN        NaN\n",
      "9     36570     99      36570000        NaN        NaN\n"
     ]
    }
   ],
   "source": [
    "# import pgeocode module to see the exact location of these zip codes\n",
    "import pgeocode\n",
    "zip_counts = pd.Series({\n",
    "                        22790: 129,\n",
    "                        24220: 128,\n",
    "                        24230: 126,\n",
    "                        29101: 107,\n",
    "                        35162: 107,\n",
    "                        22793: 106,\n",
    "                        22775: 106,\n",
    "                        13087: 102,\n",
    "                        13212: 101,\n",
    "                        36570: 99\n",
    "                    }, name=\"count\")\n",
    "\n",
    "zip_df = zip_counts.reset_index()         # Create a DataFrame\n",
    "zip_df.columns = [\"zip_code\", \"count\"]\n",
    "\n",
    "nomi = pgeocode.Nominatim(\"BR\")         # initialize pgeocode for Brazil \n",
    "\n",
    "# Convert to full 8-digit zip codes as strings, e.g. \"22790000\", since Brazilian postal code prefixes have 8 digits but we have only 5\n",
    "zip_df[\"zip_code_full\"] = zip_df[\"zip_code\"].astype(str).str.pad(8, side=\"right\", fillchar=\"0\")\n",
    "\n",
    "\n",
    "geo_info = nomi.query_postal_code(zip_df[\"zip_code\"].astype(str))\n",
    "\n",
    "result = pd.concat([zip_df, geo_info[[\"place_name\", \"state_name\"]]], axis=1)\n",
    "\n",
    "print(result)"
   ]
  },
  {
   "cell_type": "markdown",
   "id": "bb3ae41b-7601-48d9-9121-cae00f7f4803",
   "metadata": {},
   "source": [
    "### As we can see  it hasn'worked yet. It still needs some work!! BUT we can realize that the sale concentration of Magist seems to be on one region! it has to be checked.."
   ]
  },
  {
   "cell_type": "code",
   "execution_count": null,
   "id": "62c05ebe-0888-491c-8c50-f891bd6fd5d3",
   "metadata": {},
   "outputs": [],
   "source": []
  },
  {
   "cell_type": "code",
   "execution_count": null,
   "id": "88deddd5-1b62-4986-8cf1-4dcd14a41bb8",
   "metadata": {},
   "outputs": [],
   "source": []
  }
 ],
 "metadata": {
  "kernelspec": {
   "display_name": "Python [conda env:base] *",
   "language": "python",
   "name": "conda-base-py"
  },
  "language_info": {
   "codemirror_mode": {
    "name": "ipython",
    "version": 3
   },
   "file_extension": ".py",
   "mimetype": "text/x-python",
   "name": "python",
   "nbconvert_exporter": "python",
   "pygments_lexer": "ipython3",
   "version": "3.12.7"
  }
 },
 "nbformat": 4,
 "nbformat_minor": 5
}
